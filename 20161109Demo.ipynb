{
 "cells": [
  {
   "cell_type": "code",
   "execution_count": 1,
   "metadata": {
    "collapsed": true
   },
   "outputs": [],
   "source": [
    "apple = '''\n",
    "今天揭曉 美首位女總統？ 瘋狂素人總統？\n",
    "川普反移民 想靠「隱性支持者翻盤」 希拉蕊 掃拉丁裔及婦女票\n",
    "2016年11月09日      \n",
    "\n",
    "．希拉蕊目前形勢樂觀，媒體預估能順利當選。法新社 \n",
    "．川普以政治素人之姿，離經叛道的競選方式，也吸引大批支持者。美聯社\n",
    "最後衝刺\n",
    "【綜合報導】全球矚目的美國大選，昨天投票，究竟美國將出現首位女總統希拉蕊，或政治素人兼狂人川普將入主白宮，左右未來4年全球政經情勢，預計台灣時間今天中午揭曉。美國主流媒體預測希拉蕊能拿下過半數、逾270張選舉人票當選；破紀錄的拉丁裔和女性選民提前投票，也對她有利，但截至台灣時間昨深夜最早開出普選票的新罕布夏州3城鎮，川普暫居領先。\n",
    "\n",
    "現年69歲的民主黨候選人希拉蕊（Hillary Clinton）、70歲的共和黨候選人川普（Donald Trump），前天把握最後時間催票。希拉蕊昨晨在紐約州住家附近小學投票站投下一票。現場約150多名支持者，高喊「女總統！」（Madam President）。她投票後微笑說：「我很高興，超級高興。看見這些朋友和鄰居，我好開心。」 \n",
    "\n",
    "\n",
    "最後衝刺 \n",
    "川普前天連跑5州造勢，包括選情緊繃的北卡羅萊納州。美聯社\n",
    "\n",
    "希拉蕊選情樂觀，前晚在北卡羅萊納州的造勢活動延續到昨凌晨，氣氛熱烈。美聯社\n",
    "\n",
    "川普3城鎮領先\n",
    "新罕布夏州數城鎮昨率先在午夜後開放投票，是全美最早的地區之一。當地小鎮「迪克斯維爾山口」8個登記選民完成投票後即開票，希拉蕊以4比2領先，投給希拉蕊的旅社員工說：「她堅強、有經驗，會領導國家走上正確方向。」當地人杜爾森說：「國家必須向前，我不信川普能帶我們走向建設性道路。」不過該州3城鎮開票後，川普以32比25領先，但仍不足以看出該州4張選舉人票歸屬。 \n",
    "\n",
    "\n",
    "4300萬人先投票\n",
    "全美已有逾4300萬人完成提前投票，拉丁裔尤其踴躍，與反移民的川普相比，他們傾巢而出支持希拉蕊。佛羅里達大學提前投票專家史密斯說，到上周三為止：「超過42.9萬的拉丁裔完成提前投票，是4年前的158%。」他也觀察到比過去更多的女性參與提前投票：「她們支持民主黨，或非2大黨，這是所謂的『川普效應』，你若要說誰阻斷川普當選，那就是女性和少數族裔，尤其拉丁裔。」\n",
    "形勢樂觀的希拉蕊，前晚在費城的晚會有4萬人參加，寫下她最多人參與造勢的紀錄，總統歐巴馬、「工人皇帝」布魯斯史普林斯汀為她站台；在北卡羅萊納州，則有「女神卡卡」（Lady Gaga）助威。希拉蕊說：「這次大選有很明確的選擇，要分裂還是團結、要堅強穩定的領導人，或是將一切置於險境的自走砲？」對於期待看到女性當選的人，她疾呼：「讓我們一起寫下歷史吧！」\n",
    "川普雖看似處於劣勢，身旁也沒有明星助陣，但他自信擁有許多「隱性支持者」，能在最後翻轉選情。\n",
    "川普前天勤跑5州造勢，大罵舞弊的制度、騙人的媒體：「你們要美國繼續被腐敗的政治階級統治，或者再次由人民作主？」他要選民「夢想大一點」，允諾終結「背叛的歲月」，將撕毀貿易協定、封鎖邊境、驅散敘利亞難民：「我與你們同在，為你們奮戰，且我們會勝利。」台下支持者高呼：「希拉蕊是惡魔！」「她是女巫！」 \n",
    "\n",
    "外交部密切觀察\n",
    "我行政院長林全昨表示，不論最後哪一位當選，都期待新的領導人，能對世界繁榮和平及永續發展，做出更多的貢獻。我外交部表示，台美關係密切友好，我駐美國代表處及駐美各辦事處平日即與民主、共和兩黨全國委員會及地方性組織保持聯繫與交流，外交部及駐美代表處也已成立專案小組密切觀察並研析呈報。 \n",
    "\n",
    "美國大選觀選指南\n",
    "●關鍵數字：\n",
    "．除緬因和內布拉斯加兩州外，各州均採「贏者全拿」制度，即在該州拿最多普選票者，可獲該州全部選舉人票。美國50州及華府共538張選舉人票，獲270張選舉人票者，即可入主白宮\n",
    "●投票結束：\n",
    "．阿拉斯加州於台灣時間今下午2時關閉投票所，所有投票結束\n",
    "●總統開票：\n",
    "．預計台灣時間今中午12時，加州結束投票後，可知誰是總統贏家。上屆加州開票約15分鐘後，媒體便依出口民調預測歐巴馬連任成功\n",
    "●其他選舉：\n",
    "．國會眾議院435席全改選；參議院100席要改選34席\n",
    "．猶他等12州有州長選舉\n",
    "．另有地方議會議員、法官、市長、警長等選舉\n",
    "．35州舉行公投，如加州公投表決是否要求A片演員戴套\n",
    "資料來源：綜合外電 \n",
    "\n",
    "'''"
   ]
  },
  {
   "cell_type": "code",
   "execution_count": 12,
   "metadata": {
    "collapsed": false
   },
   "outputs": [],
   "source": [
    "import jieba\n",
    "jieba.load_userdict(\"userdict.txt\")\n",
    "\n",
    "word_list = []\n",
    "for word in jieba.cut(apple):\n",
    "    word_list.append(word)"
   ]
  },
  {
   "cell_type": "markdown",
   "metadata": {},
   "source": [
    "## 用字典統計字詞"
   ]
  },
  {
   "cell_type": "code",
   "execution_count": 14,
   "metadata": {
    "collapsed": false
   },
   "outputs": [
    {
     "data": {
      "text/plain": [
       "{'a': 3, 'b': 2, 'c': 1}"
      ]
     },
     "execution_count": 14,
     "metadata": {},
     "output_type": "execute_result"
    }
   ],
   "source": [
    "a = ['a', 'b', 'c', 'a', 'b', 'a']\n",
    "count_dic = {}\n",
    "for ele in a:\n",
    "    if ele not in count_dic:\n",
    "        count_dic[ele] = 1\n",
    "    else:\n",
    "        count_dic[ele] = count_dic[ele] + 1\n",
    "count_dic"
   ]
  },
  {
   "cell_type": "code",
   "execution_count": 27,
   "metadata": {
    "collapsed": false
   },
   "outputs": [],
   "source": [
    "import jieba\n",
    "jieba.load_userdict(\"userdict.txt\")\n",
    "\n",
    "# 使用Jieba 切詞\n",
    "word_list = []\n",
    "for word in jieba.cut(apple):\n",
    "    word_list.append(word)\n",
    "\n",
    "# 用字典統計字詞\n",
    "count_dic = {}\n",
    "for word in word_list:\n",
    "    if word not in count_dic:\n",
    "        count_dic[word] = 1\n",
    "    else:\n",
    "        count_dic[word] = count_dic[word] + 1"
   ]
  },
  {
   "cell_type": "code",
   "execution_count": 28,
   "metadata": {
    "collapsed": false
   },
   "outputs": [],
   "source": [
    "import operator\n",
    "swd = sorted(count_dic.items(), key=operator.itemgetter(1), reverse=True)"
   ]
  },
  {
   "cell_type": "code",
   "execution_count": 32,
   "metadata": {
    "collapsed": false
   },
   "outputs": [
    {
     "name": "stdout",
     "output_type": "stream",
     "text": [
      "川普 14\n",
      "投票 14\n",
      "希拉蕊 13\n",
      "當選 5\n",
      "提前 5\n",
      "支持者 5\n",
      "拉丁裔 5\n",
      "選舉人票 5\n",
      "美國 4\n",
      "台灣 4\n",
      "時間 4\n",
      "造勢 4\n",
      "開票 4\n",
      "女性 4\n",
      "領先 4\n",
      "城鎮 4\n",
      "媒體 4\n",
      "總統 4\n"
     ]
    }
   ],
   "source": [
    "for item in swd:\n",
    "    #print(item)\n",
    "    word, cnt =item\n",
    "    if len(word) >= 2 and cnt >= 4:\n",
    "        print(word, cnt)"
   ]
  },
  {
   "cell_type": "markdown",
   "metadata": {},
   "source": [
    "## 使用 Counter 做統計\n",
    "- https://docs.python.org/3.5/library/collections.html"
   ]
  },
  {
   "cell_type": "code",
   "execution_count": 34,
   "metadata": {
    "collapsed": false
   },
   "outputs": [
    {
     "data": {
      "text/plain": [
       "Counter({'a': 3, 'b': 2, 'c': 1})"
      ]
     },
     "execution_count": 34,
     "metadata": {},
     "output_type": "execute_result"
    }
   ],
   "source": [
    "a = ['a', 'b', 'c', 'a', 'b', 'a']\n",
    "\n",
    "from collections import Counter\n",
    "c = Counter(a)\n",
    "c"
   ]
  },
  {
   "cell_type": "code",
   "execution_count": 35,
   "metadata": {
    "collapsed": false
   },
   "outputs": [
    {
     "data": {
      "text/plain": [
       "[('a', 3), ('b', 2)]"
      ]
     },
     "execution_count": 35,
     "metadata": {},
     "output_type": "execute_result"
    }
   ],
   "source": [
    "c.most_common(2)"
   ]
  },
  {
   "cell_type": "code",
   "execution_count": 38,
   "metadata": {
    "collapsed": true
   },
   "outputs": [],
   "source": [
    "import jieba\n",
    "jieba.load_userdict(\"userdict.txt\")\n",
    "\n",
    "# 使用Jieba 切詞\n",
    "word_list = []\n",
    "for word in jieba.cut(apple):\n",
    "    if len(word) >=2:\n",
    "        word_list.append(word)\n",
    "\n",
    "# 用Counter統計字詞\n",
    "from collections import Counter\n",
    "c = Counter(word_list)"
   ]
  },
  {
   "cell_type": "code",
   "execution_count": 41,
   "metadata": {
    "collapsed": false
   },
   "outputs": [
    {
     "name": "stdout",
     "output_type": "stream",
     "text": [
      "投票 14\n",
      "川普 14\n",
      "希拉蕊 13\n",
      "當選 5\n",
      "提前 5\n",
      "支持者 5\n",
      "拉丁裔 5\n",
      "選舉人票 5\n",
      "美國 4\n",
      "台灣 4\n",
      "時間 4\n",
      "開票 4\n",
      "媒體 4\n",
      "領先 4\n",
      "城鎮 4\n",
      "女性 4\n",
      "造勢 4\n",
      "總統 4\n",
      "加州 3\n",
      "北卡羅萊納州 3\n"
     ]
    }
   ],
   "source": [
    "for word, cnt in c.most_common(20):\n",
    "    print(word, cnt)"
   ]
  },
  {
   "cell_type": "markdown",
   "metadata": {},
   "source": [
    "## 分析當日所有蘋果新聞頭條詞頻"
   ]
  },
  {
   "cell_type": "code",
   "execution_count": 45,
   "metadata": {
    "collapsed": false
   },
   "outputs": [],
   "source": [
    "import requests\n",
    "from bs4 import BeautifulSoup\n",
    "\n",
    "newslist = []\n",
    "## 抓取每頁分頁清單\n",
    "for page in range(1,31):\n",
    "    res = requests.get('http://www.appledaily.com.tw/realtimenews/section/new/{}'.format(page))\n",
    "    soup = BeautifulSoup(res.text, 'html.parser')\n",
    "    # 根據清單拿出標題\n",
    "    for news in soup.select('.rtddt a'):\n",
    "        title = news.select('h1')[0].text\n",
    "        newslist.append(title)\n",
    "        #print(news.select('h1')[0].text)\n",
    "        #print('=============================')"
   ]
  },
  {
   "cell_type": "code",
   "execution_count": 61,
   "metadata": {
    "collapsed": false
   },
   "outputs": [],
   "source": [
    "import jieba\n",
    "import re\n",
    "jieba.load_userdict(\"userdict.txt\")\n",
    "\n",
    "# 資料清理\n",
    "word_list = []\n",
    "for entry in newslist:\n",
    "    news = entry\n",
    "    \n",
    "    if entry.find('】') > 0 :\n",
    "        news = news.split('】')[1]\n",
    "    if entry.find('...') > 0:\n",
    "        news = news.split('...')[0]\n",
    "    if entry.find('(') > 0:\n",
    "        news = news.split('(')[0]\n",
    "    # 篩選字詞長度 >=2 以及是中文的字詞\n",
    "    for word in jieba.cut(news):\n",
    "        if len(word) >= 2 and re.match('[\\u4e00-\\u9fa5]+', word):\n",
    "            word_list.append(word)"
   ]
  },
  {
   "cell_type": "code",
   "execution_count": 64,
   "metadata": {
    "collapsed": false
   },
   "outputs": [
    {
     "name": "stdout",
     "output_type": "stream",
     "text": [
      "川普 34\n",
      "希拉蕊 23\n",
      "投票 19\n",
      "台灣 16\n",
      "美國 15\n",
      "馬英九 13\n",
      "中國 11\n",
      "明年 11\n",
      "總統 11\n",
      "美大選 10\n",
      "這樣 10\n",
      "網友 9\n",
      "日本 9\n",
      "女友 8\n",
      "釋法 8\n",
      "香港 7\n",
      "人大 7\n",
      "抗議 7\n",
      "美國大選 7\n",
      "正妹 6\n",
      "全球 6\n",
      "大選 6\n",
      "朴槿惠 6\n",
      "女主播 6\n",
      "億元 6\n",
      "選舉 6\n",
      "結果 6\n",
      "十一月 6\n",
      "醫療 6\n",
      "蘋果 5\n"
     ]
    }
   ],
   "source": [
    "from collections import Counter\n",
    "# 使用Collections 的 Counter 進行統計\n",
    "c = Counter(word_list)\n",
    "for word, cnt in c.most_common(30):\n",
    "    print(word, cnt)"
   ]
  },
  {
   "cell_type": "markdown",
   "metadata": {},
   "source": [
    "## TF-IDF 計算"
   ]
  },
  {
   "cell_type": "code",
   "execution_count": 65,
   "metadata": {
    "collapsed": true
   },
   "outputs": [],
   "source": [
    "a, abb, abc = [\"a\"], [\"a\",\"b\",\"b\"], [\"a\",\"b\",\"c\"]\n",
    "D=[a,abb,abc]"
   ]
  },
  {
   "cell_type": "code",
   "execution_count": 69,
   "metadata": {
    "collapsed": false
   },
   "outputs": [
    {
     "data": {
      "text/plain": [
       "(1.0, 0.0, 0.0)"
      ]
     },
     "execution_count": 69,
     "metadata": {},
     "output_type": "execute_result"
    }
   ],
   "source": [
    "# tfidf(\"a\", a, D)\n",
    "import scipy\n",
    "\n",
    "tf    =  1 / 1\n",
    "idf   =  scipy.log(3 / 3)\n",
    "tf, idf, tf * idf"
   ]
  },
  {
   "cell_type": "code",
   "execution_count": 74,
   "metadata": {
    "collapsed": false
   },
   "outputs": [
    {
     "data": {
      "text/plain": [
       "(0.6666666666666666, 0.40546510810816438, 0.27031007207210955)"
      ]
     },
     "execution_count": 74,
     "metadata": {},
     "output_type": "execute_result"
    }
   ],
   "source": [
    "# tfidf(\"b\", abb, D)\n",
    "tf  = 2 / 3\n",
    "idf = scipy.log(3 / 2)\n",
    "tf, idf, tf * idf"
   ]
  },
  {
   "cell_type": "code",
   "execution_count": 76,
   "metadata": {
    "collapsed": false
   },
   "outputs": [
    {
     "data": {
      "text/plain": [
       "(0.3333333333333333, 0.0, 0.0)"
      ]
     },
     "execution_count": 76,
     "metadata": {},
     "output_type": "execute_result"
    }
   ],
   "source": [
    "# tfidf(\"a\",abc,D)\n",
    "tf  = 1 / 3\n",
    "idf = scipy.log(3/3)\n",
    "tf, idf, tf * idf"
   ]
  },
  {
   "cell_type": "code",
   "execution_count": 79,
   "metadata": {
    "collapsed": false
   },
   "outputs": [
    {
     "data": {
      "text/plain": [
       "(0.3333333333333333, 0.40546510810816438, 0.13515503603605478)"
      ]
     },
     "execution_count": 79,
     "metadata": {},
     "output_type": "execute_result"
    }
   ],
   "source": [
    "# tfidf(\"b\",abc,D)\n",
    "tf = 1 / 3\n",
    "idf = scipy.log(3/2)\n",
    "tf, idf, tf*idf"
   ]
  },
  {
   "cell_type": "code",
   "execution_count": 81,
   "metadata": {
    "collapsed": false
   },
   "outputs": [
    {
     "data": {
      "text/plain": [
       "(0.3333333333333333, 1.0986122886681098, 0.36620409622270322)"
      ]
     },
     "execution_count": 81,
     "metadata": {},
     "output_type": "execute_result"
    }
   ],
   "source": [
    "# tfidf(\"c\",abc,D)\n",
    "tf  = 1 / 3\n",
    "idf = scipy.log(3/1)\n",
    "tf, idf, tf * idf"
   ]
  },
  {
   "cell_type": "code",
   "execution_count": 82,
   "metadata": {
    "collapsed": false
   },
   "outputs": [
    {
     "data": {
      "text/plain": [
       "3"
      ]
     },
     "execution_count": 82,
     "metadata": {},
     "output_type": "execute_result"
    }
   ],
   "source": [
    "a = ['a', 'b', 'c', 'a', 'a']\n",
    "a.count('a')"
   ]
  },
  {
   "cell_type": "code",
   "execution_count": 84,
   "metadata": {
    "collapsed": false
   },
   "outputs": [
    {
     "data": {
      "text/plain": [
       "2"
      ]
     },
     "execution_count": 84,
     "metadata": {},
     "output_type": "execute_result"
    }
   ],
   "source": [
    "a, abb, abc = [\"a\"], [\"a\",\"b\",\"b\"], [\"a\",\"b\",\"c\"]\n",
    "D=[a,abb,abc]"
   ]
  },
  {
   "cell_type": "code",
   "execution_count": null,
   "metadata": {
    "collapsed": true
   },
   "outputs": [],
   "source": [
    "# 正規作法\n",
    "doc_contains_term = []\n",
    "for doc in D:\n",
    "    if 'b' in doc:\n",
    "        doc_contains_term.append(doc)\n",
    "len(doc_contains_term)"
   ]
  },
  {
   "cell_type": "code",
   "execution_count": 85,
   "metadata": {
    "collapsed": false
   },
   "outputs": [
    {
     "data": {
      "text/plain": [
       "2"
      ]
     },
     "execution_count": 85,
     "metadata": {},
     "output_type": "execute_result"
    }
   ],
   "source": [
    "# 一行文作法\n",
    "len([doc for doc in D if 'b' in doc])"
   ]
  },
  {
   "cell_type": "markdown",
   "metadata": {},
   "source": [
    "## 建立 tf * idf 函式"
   ]
  },
  {
   "cell_type": "code",
   "execution_count": 97,
   "metadata": {
    "collapsed": false
   },
   "outputs": [],
   "source": [
    "def tfidf(term, doc, D):\n",
    "    tf  =  doc.count(term)  / len(doc)\n",
    "    idf =  scipy.log(len(D) /  len([d for d in D if term in d]))\n",
    "    return tf * idf"
   ]
  },
  {
   "cell_type": "code",
   "execution_count": 98,
   "metadata": {
    "collapsed": false
   },
   "outputs": [],
   "source": [
    "# 第二版: 分母 + 1\n",
    "def tfidf2(term, doc, D):\n",
    "    tf  =  doc.count(term)  / len(doc)\n",
    "    idf =  scipy.log(len(D) /  (len([d for d in D if term in d]) + 1 ))\n",
    "    return tf * idf"
   ]
  },
  {
   "cell_type": "code",
   "execution_count": 99,
   "metadata": {
    "collapsed": false
   },
   "outputs": [
    {
     "name": "stdout",
     "output_type": "stream",
     "text": [
      "0.0\n",
      "0.270310072072\n",
      "0.0\n",
      "0.135155036036\n",
      "0.366204096223\n"
     ]
    }
   ],
   "source": [
    "print(tfidf(\"a\",a,D))\n",
    "print(tfidf(\"b\",abb,D))\n",
    "print(tfidf(\"a\",abc,D))\n",
    "print(tfidf(\"b\",abc,D))\n",
    "print(tfidf(\"c\",abc,D))"
   ]
  },
  {
   "cell_type": "markdown",
   "metadata": {},
   "source": [
    "## 建立詞頻矩陣"
   ]
  },
  {
   "cell_type": "code",
   "execution_count": 104,
   "metadata": {
    "collapsed": false
   },
   "outputs": [
    {
     "data": {
      "text/plain": [
       "'【 更新 】 柯P ： 洪智坤 洩漏 公文 案還 沒 看到 公文 今處理'"
      ]
     },
     "execution_count": 104,
     "metadata": {},
     "output_type": "execute_result"
    }
   ],
   "source": [
    "s = '【更新】柯P：洪智坤洩漏公文案還沒看到公文今處理'\n",
    "#for w in jieba.cut(s):\n",
    "#    print(w)\n",
    "' '.join(jieba.cut(s))"
   ]
  },
  {
   "cell_type": "code",
   "execution_count": 114,
   "metadata": {
    "collapsed": true
   },
   "outputs": [],
   "source": [
    "jieba.load_userdict(\"userdict.txt\")\n",
    "ary=['【更新】柯P：洪智坤洩漏公文案還沒看到公文今處理',\n",
    "     '留洪智坤 柯：殘障求職不易',\n",
    "     '人事處議處洪智坤 柯P：不清楚議處結果']\n",
    "\n",
    "corpus = []\n",
    "for title in ary:\n",
    "    corpus.append(' '.join(jieba.cut(title)))"
   ]
  },
  {
   "cell_type": "code",
   "execution_count": 116,
   "metadata": {
    "collapsed": false
   },
   "outputs": [
    {
     "data": {
      "text/plain": [
       "['【 更新 】 柯P ： 洪智坤 洩漏 公文 案還 沒 看到 公文 今處理',\n",
       " '留 洪智坤   柯 ： 殘障 求職 不易',\n",
       " '人事 處議 處 洪智坤   柯P ： 不 清楚 議處 結果']"
      ]
     },
     "execution_count": 116,
     "metadata": {},
     "output_type": "execute_result"
    }
   ],
   "source": [
    "corpus"
   ]
  },
  {
   "cell_type": "code",
   "execution_count": 117,
   "metadata": {
    "collapsed": true
   },
   "outputs": [],
   "source": [
    "from sklearn.feature_extraction.text import CountVectorizer\n",
    "vectorizer = CountVectorizer()\n",
    "X = vectorizer.fit_transform(corpus)"
   ]
  },
  {
   "cell_type": "markdown",
   "metadata": {},
   "source": [
    "- '【更新】柯P：洪智坤洩漏公文案還沒看到公文今處理',\n",
    "- '留洪智坤 柯：殘障求職不易',\n",
    "- '人事處議處洪智坤 柯P：不清楚議處結果']"
   ]
  },
  {
   "cell_type": "code",
   "execution_count": 118,
   "metadata": {
    "collapsed": false
   },
   "outputs": [
    {
     "name": "stdout",
     "output_type": "stream",
     "text": [
      "不易 人事 今處理 公文 更新 柯p 案還 殘障 求職 洩漏 洪智坤 清楚 看到 結果 處議 議處\n",
      "[[0 0 1 2 1 1 1 0 0 1 1 0 1 0 0 0]\n",
      " [1 0 0 0 0 0 0 1 1 0 1 0 0 0 0 0]\n",
      " [0 1 0 0 0 1 0 0 0 0 1 1 0 1 1 1]]\n"
     ]
    }
   ],
   "source": [
    "word=vectorizer.get_feature_names()\n",
    "print(' '.join(word))\n",
    "print(X.toarray())"
   ]
  },
  {
   "cell_type": "markdown",
   "metadata": {},
   "source": [
    "## 計算tf-idf 權值"
   ]
  },
  {
   "cell_type": "code",
   "execution_count": 121,
   "metadata": {
    "collapsed": false
   },
   "outputs": [
    {
     "name": "stdout",
     "output_type": "stream",
     "text": [
      "[[ 0.          0.          0.31738473  0.63476946  0.31738473  0.24137927\n",
      "   0.31738473  0.          0.          0.31738473  0.18745253  0.\n",
      "   0.31738473  0.          0.          0.        ]\n",
      " [ 0.54645401  0.          0.          0.          0.          0.          0.\n",
      "   0.54645401  0.54645401  0.          0.32274454  0.          0.          0.\n",
      "   0.          0.        ]\n",
      " [ 0.          0.41074684  0.          0.          0.          0.31238356\n",
      "   0.          0.          0.          0.          0.2425937   0.41074684\n",
      "   0.          0.41074684  0.41074684  0.41074684]]\n"
     ]
    }
   ],
   "source": [
    "from sklearn.feature_extraction.text import TfidfTransformer\n",
    "transformer=TfidfTransformer()\n",
    "tfidf=transformer.fit_transform(X)\n",
    "weight=tfidf.toarray()\n",
    "print(weight)"
   ]
  },
  {
   "cell_type": "markdown",
   "metadata": {},
   "source": [
    "## 計算cosine similarity"
   ]
  },
  {
   "cell_type": "code",
   "execution_count": 123,
   "metadata": {
    "collapsed": true
   },
   "outputs": [],
   "source": [
    "from sklearn.metrics import pairwise\n",
    "?pairwise.cosine_similarity"
   ]
  },
  {
   "cell_type": "code",
   "execution_count": 126,
   "metadata": {
    "collapsed": false
   },
   "outputs": [
    {
     "name": "stderr",
     "output_type": "stream",
     "text": [
      "C:\\Anaconda3\\lib\\site-packages\\sklearn\\utils\\validation.py:386: DeprecationWarning: Passing 1d arrays as data is deprecated in 0.17 and willraise ValueError in 0.19. Reshape your data either using X.reshape(-1, 1) if your data has a single feature or X.reshape(1, -1) if it contains a single sample.\n",
      "  DeprecationWarning)\n",
      "C:\\Anaconda3\\lib\\site-packages\\sklearn\\utils\\validation.py:386: DeprecationWarning: Passing 1d arrays as data is deprecated in 0.17 and willraise ValueError in 0.19. Reshape your data either using X.reshape(-1, 1) if your data has a single feature or X.reshape(1, -1) if it contains a single sample.\n",
      "  DeprecationWarning)\n"
     ]
    },
    {
     "data": {
      "text/plain": [
       "array([[ 0.93819419]])"
      ]
     },
     "execution_count": 126,
     "metadata": {},
     "output_type": "execute_result"
    }
   ],
   "source": [
    "import numpy\n",
    "from sklearn.metrics.pairwise import cosine_similarity\n",
    "\n",
    "X = numpy.array([1, 2, 2, 1, 1, 1, 0])\n",
    "Y = numpy.array([1, 2, 2, 1, 1, 2, 1])\n",
    "\n",
    "cosine_similarity(X,Y)"
   ]
  },
  {
   "cell_type": "markdown",
   "metadata": {},
   "source": [
    "## 建立詞頻矩陣的相似度"
   ]
  },
  {
   "cell_type": "code",
   "execution_count": 127,
   "metadata": {
    "collapsed": true
   },
   "outputs": [],
   "source": [
    "from sklearn.feature_extraction.text import CountVectorizer\n",
    "vectorizer = CountVectorizer()\n",
    "X = vectorizer.fit_transform(corpus)"
   ]
  },
  {
   "cell_type": "code",
   "execution_count": 128,
   "metadata": {
    "collapsed": false
   },
   "outputs": [
    {
     "data": {
      "text/plain": [
       "array([[ 1.        ,  0.15075567,  0.22792115],\n",
       "       [ 0.15075567,  1.        ,  0.18898224],\n",
       "       [ 0.22792115,  0.18898224,  1.        ]])"
      ]
     },
     "execution_count": 128,
     "metadata": {},
     "output_type": "execute_result"
    }
   ],
   "source": [
    "cosine_similarity(X)"
   ]
  },
  {
   "cell_type": "markdown",
   "metadata": {},
   "source": [
    "## 建立tfidf矩陣的相似度"
   ]
  },
  {
   "cell_type": "code",
   "execution_count": 129,
   "metadata": {
    "collapsed": true
   },
   "outputs": [],
   "source": [
    "from sklearn.feature_extraction.text import TfidfTransformer\n",
    "transformer=TfidfTransformer()\n",
    "tfidf=transformer.fit_transform(X)"
   ]
  },
  {
   "cell_type": "code",
   "execution_count": 130,
   "metadata": {
    "collapsed": false
   },
   "outputs": [
    {
     "data": {
      "text/plain": [
       "array([[ 1.        ,  0.06049928,  0.12087772],\n",
       "       [ 0.06049928,  1.        ,  0.07829579],\n",
       "       [ 0.12087772,  0.07829579,  1.        ]])"
      ]
     },
     "execution_count": 130,
     "metadata": {},
     "output_type": "execute_result"
    }
   ],
   "source": [
    "cosine_similarity(tfidf)"
   ]
  },
  {
   "cell_type": "code",
   "execution_count": 132,
   "metadata": {
    "collapsed": false
   },
   "outputs": [
    {
     "data": {
      "text/plain": [
       "array([[ 1.        ,  0.06049928,  0.12087772]])"
      ]
     },
     "execution_count": 132,
     "metadata": {},
     "output_type": "execute_result"
    }
   ],
   "source": [
    "cosine_similarity(tfidf[0], tfidf)"
   ]
  },
  {
   "cell_type": "code",
   "execution_count": 135,
   "metadata": {
    "collapsed": false
   },
   "outputs": [
    {
     "data": {
      "text/plain": [
       "array([ 1.        ,  0.06049928,  0.12087772])"
      ]
     },
     "execution_count": 135,
     "metadata": {},
     "output_type": "execute_result"
    }
   ],
   "source": [
    "cosine_similarities = cosine_similarity(tfidf[0], tfidf).flatten()\n",
    "cosine_similarities"
   ]
  },
  {
   "cell_type": "markdown",
   "metadata": {},
   "source": [
    "## 找出相關文章"
   ]
  },
  {
   "cell_type": "code",
   "execution_count": 146,
   "metadata": {
    "collapsed": false
   },
   "outputs": [
    {
     "name": "stdout",
     "output_type": "stream",
     "text": [
      "查詢文章: 【更新】柯P：洪智坤洩漏公文案還沒看到公文今處理\n",
      "相關文章: 人事處議處洪智坤 柯P：不清楚議處結果 0.120877716968\n",
      "相關文章: 留洪智坤 柯：殘障求職不易 0.0604992822195\n"
     ]
    }
   ],
   "source": [
    "cosine_similarities.argsort()[::-1]\n",
    "print('查詢文章:', ary[0])\n",
    "for idx in cosine_similarities.argsort()[::-1][1:]:\n",
    "    print('相關文章:',ary[idx], cosine_similarities[idx])"
   ]
  },
  {
   "cell_type": "markdown",
   "metadata": {},
   "source": [
    "## argsort v.s. sort"
   ]
  },
  {
   "cell_type": "code",
   "execution_count": 138,
   "metadata": {
    "collapsed": false
   },
   "outputs": [
    {
     "data": {
      "text/plain": [
       "[1, 2, 3, 4, 5]"
      ]
     },
     "execution_count": 138,
     "metadata": {},
     "output_type": "execute_result"
    }
   ],
   "source": [
    "a = [3,1,2,5,4]\n",
    "a.sort()\n",
    "a"
   ]
  },
  {
   "cell_type": "code",
   "execution_count": 141,
   "metadata": {
    "collapsed": false
   },
   "outputs": [
    {
     "data": {
      "text/plain": [
       "array([1, 2, 0, 4, 3], dtype=int64)"
      ]
     },
     "execution_count": 141,
     "metadata": {},
     "output_type": "execute_result"
    }
   ],
   "source": [
    "a = [3,1,2,5,4]\n",
    "b = numpy.array(a)\n",
    "b = b.argsort()\n",
    "b"
   ]
  },
  {
   "cell_type": "markdown",
   "metadata": {},
   "source": [
    "## 蒐集蘋果新聞資料爬蟲"
   ]
  },
  {
   "cell_type": "code",
   "execution_count": 148,
   "metadata": {
    "collapsed": false
   },
   "outputs": [],
   "source": [
    "import requests\n",
    "from bs4 import BeautifulSoup\n",
    "domain  = 'http://www.appledaily.com.tw'\n",
    "urllist = []\n",
    "## 抓取每頁分頁清單\n",
    "for page in range(1,31):\n",
    "    res = requests.get('http://www.appledaily.com.tw/realtimenews/section/new/{}'.format(page))\n",
    "    soup = BeautifulSoup(res.text, 'html.parser')\n",
    "    # 根據清單拿出標題\n",
    "    for news in soup.select('.rtddt a'):\n",
    "        url = domain + news['href']\n",
    "        urllist.append(url)\n",
    "        "
   ]
  },
  {
   "cell_type": "code",
   "execution_count": 153,
   "metadata": {
    "collapsed": true
   },
   "outputs": [],
   "source": [
    "def getNewsContent(url):\n",
    "    try:\n",
    "        res = requests.get(url)\n",
    "        soup = BeautifulSoup(res.text, 'html.parser')\n",
    "        title   = soup.select('#h1')[0].text.strip()\n",
    "        content = soup.select('#summary')[0].text.strip()\n",
    "        return {'title':title, 'content':content}\n",
    "    except:\n",
    "        return None"
   ]
  },
  {
   "cell_type": "code",
   "execution_count": 154,
   "metadata": {
    "collapsed": false
   },
   "outputs": [
    {
     "data": {
      "text/plain": [
       "{'content': '受到東北季風影響，淡水今天清晨出現16.8℃，寫下入冬以來平地最低溫紀錄，另外包括新竹17.8℃、蘇澳18℃、基隆與板橋的18.4℃、台北18.6℃、梧棲18.7℃、台中19.9℃，都寫下該測站入冬最低溫紀錄，等於有8個測站都創下入冬最低溫。氣象局表示，今起到周五都受東北季風影響，北台灣濕冷、低溫下探18℃，不排除有更低溫，中南部低溫在19至20℃，各地早晚偏涼，中南部日夜溫差大，預計周末東北季風減弱，但北台灣仍有短暫雨，預計下周一才會明顯轉趨穩定。（生活中心／台北報導）',\n",
       " 'title': '東北季風發威\\u3000台北等8測站創入冬最低溫'}"
      ]
     },
     "execution_count": 154,
     "metadata": {},
     "output_type": "execute_result"
    }
   ],
   "source": [
    "getNewsContent('http://www.appledaily.com.tw/realtimenews/article/life/20161109/985027/%E6%9D%B1%E5%8C%97%E5%AD%A3%E9%A2%A8%E7%99%BC%E5%A8%81%E3%80%80%E5%8F%B0%E5%8C%97%E7%AD%898%E6%B8%AC%E7%AB%99%E5%89%B5%E5%85%A5%E5%86%AC%E6%9C%80%E4%BD%8E%E6%BA%AB')"
   ]
  },
  {
   "cell_type": "code",
   "execution_count": 155,
   "metadata": {
    "collapsed": false
   },
   "outputs": [],
   "source": [
    "applenews = [getNewsContent(url) for url in urllist]"
   ]
  },
  {
   "cell_type": "code",
   "execution_count": 157,
   "metadata": {
    "collapsed": false
   },
   "outputs": [],
   "source": [
    "import pandas\n",
    "df = pandas.DataFrame(applenews)\n",
    "df.to_excel('20161109news.xlsx')"
   ]
  },
  {
   "cell_type": "markdown",
   "metadata": {},
   "source": [
    "## 讀取蘋果新聞"
   ]
  },
  {
   "cell_type": "code",
   "execution_count": 1,
   "metadata": {
    "collapsed": false
   },
   "outputs": [
    {
     "data": {
      "text/html": [
       "<div>\n",
       "<table border=\"1\" class=\"dataframe\">\n",
       "  <thead>\n",
       "    <tr style=\"text-align: right;\">\n",
       "      <th></th>\n",
       "      <th>content</th>\n",
       "      <th>title</th>\n",
       "    </tr>\n",
       "  </thead>\n",
       "  <tbody>\n",
       "    <tr>\n",
       "      <th>0</th>\n",
       "      <td>川普打敗希拉蕊，成為美國新任總統。在德洲長大的美籍藝人Janet今出席活動，對川普當選，在德...</td>\n",
       "      <td>川普當選美總統　Janet「不要只想到自己」</td>\n",
       "    </tr>\n",
       "    <tr>\n",
       "      <th>1</th>\n",
       "      <td>從事桃園機場接送的楊姓、紀姓司機，今年初不滿林姓同業降價接單，在「派趟勿喇賽」、「市區派趟聊...</td>\n",
       "      <td>不滿削價接客　公開同業姓名、手機判拘</td>\n",
       "    </tr>\n",
       "    <tr>\n",
       "      <th>2</th>\n",
       "      <td>(更新:新增過音影片)台中新社花海11月5日才開幕，就有網友向《蘋果》投訴指出，臉書發現有不...</td>\n",
       "      <td>花海拍美照踩死花　民眾爆料批「沒公德心」</td>\n",
       "    </tr>\n",
       "    <tr>\n",
       "      <th>3</th>\n",
       "      <td>美國共和黨總統候選人川普（Donald Trump）極有可能成為下屆美國總統，不但異於過去多...</td>\n",
       "      <td>人民選擇川普　諾貝爾桂冠：「絕望」</td>\n",
       "    </tr>\n",
       "    <tr>\n",
       "      <th>4</th>\n",
       "      <td>（更新：卡卡推特　美國隊長推特）美國總統大選開票接近尾聲，原本外界看好的希拉蕊一路落後給川普...</td>\n",
       "      <td>【好萊塢哀號】川普贏了！ 美國隊長怒喊「丟臉」</td>\n",
       "    </tr>\n",
       "  </tbody>\n",
       "</table>\n",
       "</div>"
      ],
      "text/plain": [
       "                                             content                    title\n",
       "0  川普打敗希拉蕊，成為美國新任總統。在德洲長大的美籍藝人Janet今出席活動，對川普當選，在德...   川普當選美總統　Janet「不要只想到自己」\n",
       "1  從事桃園機場接送的楊姓、紀姓司機，今年初不滿林姓同業降價接單，在「派趟勿喇賽」、「市區派趟聊...       不滿削價接客　公開同業姓名、手機判拘\n",
       "2  (更新:新增過音影片)台中新社花海11月5日才開幕，就有網友向《蘋果》投訴指出，臉書發現有不...     花海拍美照踩死花　民眾爆料批「沒公德心」\n",
       "3  美國共和黨總統候選人川普（Donald Trump）極有可能成為下屆美國總統，不但異於過去多...        人民選擇川普　諾貝爾桂冠：「絕望」\n",
       "4  （更新：卡卡推特　美國隊長推特）美國總統大選開票接近尾聲，原本外界看好的希拉蕊一路落後給川普...  【好萊塢哀號】川普贏了！ 美國隊長怒喊「丟臉」"
      ]
     },
     "execution_count": 1,
     "metadata": {},
     "output_type": "execute_result"
    }
   ],
   "source": [
    "import pandas\n",
    "df = pandas.read_excel('20161109news.xlsx')\n",
    "df.head()"
   ]
  },
  {
   "cell_type": "code",
   "execution_count": 33,
   "metadata": {
    "collapsed": false
   },
   "outputs": [
    {
     "data": {
      "text/html": [
       "<div>\n",
       "<table border=\"1\" class=\"dataframe\">\n",
       "  <thead>\n",
       "    <tr style=\"text-align: right;\">\n",
       "      <th></th>\n",
       "      <th>content</th>\n",
       "      <th>title</th>\n",
       "    </tr>\n",
       "  </thead>\n",
       "  <tbody>\n",
       "    <tr>\n",
       "      <th>18</th>\n",
       "      <td>美國總統大選開票結果即將出爐之際，國民黨下午3時22分發出「洪主席恭賀川普當選美國總統」新聞...</td>\n",
       "      <td>國民黨搶頭香　洪秀柱第一時間恭賀川普當選</td>\n",
       "    </tr>\n",
       "    <tr>\n",
       "      <th>189</th>\n",
       "      <td>羅伯特亞當斯／自由作家2013年9月間爆發「馬王政爭」，檢察總長夜奔總統官邸密告官場大咖的諸...</td>\n",
       "      <td>「洩密門」的總統學</td>\n",
       "    </tr>\n",
       "    <tr>\n",
       "      <th>351</th>\n",
       "      <td>前總統馬英九遭民進黨立委柯建銘自訴洩密等罪，台北地院昨首度以被告身分傳馬出庭，馬英九與柯建銘...</td>\n",
       "      <td>馬英九、柯建銘當庭交鋒　柯要求法院這樣做</td>\n",
       "    </tr>\n",
       "    <tr>\n",
       "      <th>416</th>\n",
       "      <td>前總統馬英九自卸任元首職務後，司法單位陸續針對他涉及的司法案件展開調查，為了3年前的馬王政爭...</td>\n",
       "      <td>【壹週刊】馬英九出庭　法界：教唆洩密恐成罪</td>\n",
       "    </tr>\n",
       "    <tr>\n",
       "      <th>428</th>\n",
       "      <td>蘋果日報頭條今天揭曉 美首位女總統？ 瘋狂素人總統？全球矚目的美國大選，昨天投票，究竟美國將...</td>\n",
       "      <td>十一月九日各報頭條搶先報</td>\n",
       "    </tr>\n",
       "    <tr>\n",
       "      <th>474</th>\n",
       "      <td>2013年9月8日前總統馬英九在總統府舉行記者會，痛斥立法院前院長王金平司法關說，開啟「馬王...</td>\n",
       "      <td>【有恨片】318學運漫延　就是因為馬英九只考慮那2秒</td>\n",
       "    </tr>\n",
       "    <tr>\n",
       "      <th>551</th>\n",
       "      <td>（更新：新增動新聞）前總統馬英九遭民進黨立委柯建銘自訴涉嫌洩密等罪，台北地院今天下午將首度以...</td>\n",
       "      <td>柯建銘律師聲請羈押馬英九　北院：另案裁定</td>\n",
       "    </tr>\n",
       "    <tr>\n",
       "      <th>606</th>\n",
       "      <td>●【有片】超誇張 婦人7年家用垃圾都丟美麗華百貨http://ppt.cc/2Z92F●【不...</td>\n",
       "      <td>【鄉民焦點】無極限！奧客家裡垃圾7年都丟美麗華竟無法罰●希拉蕊or川普？美國新總統明午誕生</td>\n",
       "    </tr>\n",
       "    <tr>\n",
       "      <th>614</th>\n",
       "      <td>前總統馬英九今天下午為立委柯建銘自訴他涉嫌洩密等罪到台北地院應訊，台北地院為讓更多民眾可以旁...</td>\n",
       "      <td>馬英九柯建銘法庭論戰　民眾只給60分</td>\n",
       "    </tr>\n",
       "    <tr>\n",
       "      <th>648</th>\n",
       "      <td>民進黨立院黨團總召集人柯建銘自訴前總統馬英九洩密案，馬英九下午首度以被告身分到台北地院出庭。...</td>\n",
       "      <td>洪秀柱批柯建銘報私仇　「企圖羞辱馬英九」</td>\n",
       "    </tr>\n",
       "    <tr>\n",
       "      <th>806</th>\n",
       "      <td>前總統馬英九遭立委柯建銘自訴涉嫌洩密、加重誹謗，今天下午馬英九首度出庭，這也是他卸任後，首度...</td>\n",
       "      <td>馬英九挨告首出庭　148字捍清白</td>\n",
       "    </tr>\n",
       "    <tr>\n",
       "      <th>811</th>\n",
       "      <td>民進黨立院黨團總召柯建銘自訴前總統馬英九洩密案，馬下午首度以被告身分到台北地院出庭之際，馬英...</td>\n",
       "      <td>【出庭聲明】馬英九：我沒犯罪　任何人都不應司法關說</td>\n",
       "    </tr>\n",
       "    <tr>\n",
       "      <th>815</th>\n",
       "      <td>民進黨立委柯建銘自訴前總統馬英九洩密案，馬下午首度以被告身分到台北地院出庭，前副總統吳敦義接...</td>\n",
       "      <td>【還原馬王政爭】吳敦義自爆「鍘王」前　馬英九曾猶豫2秒</td>\n",
       "    </tr>\n",
       "    <tr>\n",
       "      <th>818</th>\n",
       "      <td>前總統馬英九遭民進黨立院黨團總召柯建銘自訴涉嫌洩密等罪，下午首度以被告身分出席。總統府前副秘...</td>\n",
       "      <td>羅智強：台灣的是非　被一群無臉人埋進棺材</td>\n",
       "    </tr>\n",
       "    <tr>\n",
       "      <th>834</th>\n",
       "      <td>（更新：新增影片）高等法院今上午開庭審理前總統馬英九自訴控告名嘴周玉蔻涉犯加重誹謗案，馬與證...</td>\n",
       "      <td>柯建銘告馬英九今開庭　周玉蔻預言「他」會贏</td>\n",
       "    </tr>\n",
       "    <tr>\n",
       "      <th>853</th>\n",
       "      <td>(更新:新增影片)前總統馬英九今天下午將針對民進黨立委柯建銘自訴控告洩密等案，到北院出庭應訊...</td>\n",
       "      <td>【交手片】馬英九出庭應訊　柯建銘：怎有臉跟我辯</td>\n",
       "    </tr>\n",
       "  </tbody>\n",
       "</table>\n",
       "</div>"
      ],
      "text/plain": [
       "                                               content  \\\n",
       "18   美國總統大選開票結果即將出爐之際，國民黨下午3時22分發出「洪主席恭賀川普當選美國總統」新聞...   \n",
       "189  羅伯特亞當斯／自由作家2013年9月間爆發「馬王政爭」，檢察總長夜奔總統官邸密告官場大咖的諸...   \n",
       "351  前總統馬英九遭民進黨立委柯建銘自訴洩密等罪，台北地院昨首度以被告身分傳馬出庭，馬英九與柯建銘...   \n",
       "416  前總統馬英九自卸任元首職務後，司法單位陸續針對他涉及的司法案件展開調查，為了3年前的馬王政爭...   \n",
       "428  蘋果日報頭條今天揭曉 美首位女總統？ 瘋狂素人總統？全球矚目的美國大選，昨天投票，究竟美國將...   \n",
       "474  2013年9月8日前總統馬英九在總統府舉行記者會，痛斥立法院前院長王金平司法關說，開啟「馬王...   \n",
       "551  （更新：新增動新聞）前總統馬英九遭民進黨立委柯建銘自訴涉嫌洩密等罪，台北地院今天下午將首度以...   \n",
       "606  ●【有片】超誇張 婦人7年家用垃圾都丟美麗華百貨http://ppt.cc/2Z92F●【不...   \n",
       "614  前總統馬英九今天下午為立委柯建銘自訴他涉嫌洩密等罪到台北地院應訊，台北地院為讓更多民眾可以旁...   \n",
       "648  民進黨立院黨團總召集人柯建銘自訴前總統馬英九洩密案，馬英九下午首度以被告身分到台北地院出庭。...   \n",
       "806  前總統馬英九遭立委柯建銘自訴涉嫌洩密、加重誹謗，今天下午馬英九首度出庭，這也是他卸任後，首度...   \n",
       "811  民進黨立院黨團總召柯建銘自訴前總統馬英九洩密案，馬下午首度以被告身分到台北地院出庭之際，馬英...   \n",
       "815  民進黨立委柯建銘自訴前總統馬英九洩密案，馬下午首度以被告身分到台北地院出庭，前副總統吳敦義接...   \n",
       "818  前總統馬英九遭民進黨立院黨團總召柯建銘自訴涉嫌洩密等罪，下午首度以被告身分出席。總統府前副秘...   \n",
       "834  （更新：新增影片）高等法院今上午開庭審理前總統馬英九自訴控告名嘴周玉蔻涉犯加重誹謗案，馬與證...   \n",
       "853  (更新:新增影片)前總統馬英九今天下午將針對民進黨立委柯建銘自訴控告洩密等案，到北院出庭應訊...   \n",
       "\n",
       "                                             title  \n",
       "18                            國民黨搶頭香　洪秀柱第一時間恭賀川普當選  \n",
       "189                                      「洩密門」的總統學  \n",
       "351                           馬英九、柯建銘當庭交鋒　柯要求法院這樣做  \n",
       "416                          【壹週刊】馬英九出庭　法界：教唆洩密恐成罪  \n",
       "428                                   十一月九日各報頭條搶先報  \n",
       "474                     【有恨片】318學運漫延　就是因為馬英九只考慮那2秒  \n",
       "551                           柯建銘律師聲請羈押馬英九　北院：另案裁定  \n",
       "606  【鄉民焦點】無極限！奧客家裡垃圾7年都丟美麗華竟無法罰●希拉蕊or川普？美國新總統明午誕生  \n",
       "614                             馬英九柯建銘法庭論戰　民眾只給60分  \n",
       "648                           洪秀柱批柯建銘報私仇　「企圖羞辱馬英九」  \n",
       "806                               馬英九挨告首出庭　148字捍清白  \n",
       "811                      【出庭聲明】馬英九：我沒犯罪　任何人都不應司法關說  \n",
       "815                    【還原馬王政爭】吳敦義自爆「鍘王」前　馬英九曾猶豫2秒  \n",
       "818                           羅智強：台灣的是非　被一群無臉人埋進棺材  \n",
       "834                          柯建銘告馬英九今開庭　周玉蔻預言「他」會贏  \n",
       "853                        【交手片】馬英九出庭應訊　柯建銘：怎有臉跟我辯  "
      ]
     },
     "execution_count": 33,
     "metadata": {},
     "output_type": "execute_result"
    }
   ],
   "source": [
    "df[df.content.str.contains('馬英九')]"
   ]
  },
  {
   "cell_type": "code",
   "execution_count": 2,
   "metadata": {
    "collapsed": true
   },
   "outputs": [],
   "source": [
    "df = df.dropna()"
   ]
  },
  {
   "cell_type": "code",
   "execution_count": 8,
   "metadata": {
    "collapsed": false
   },
   "outputs": [
    {
     "name": "stderr",
     "output_type": "stream",
     "text": [
      "Building prefix dict from the default dictionary ...\n",
      "Loading model from cache C:\\Users\\cathay\\AppData\\Local\\Temp\\jieba.cache\n",
      "Loading model cost 1.269 seconds.\n",
      "Prefix dict has been built succesfully.\n"
     ]
    }
   ],
   "source": [
    "import jieba\n",
    "jieba.load_userdict(\"userdict.txt\")\n",
    "corpus = []\n",
    "titles = []\n",
    "for news in df.iterrows():    \n",
    "    titles.append(news[1].title)\n",
    "    corpus.append(' '.join(jieba.cut(news[1].content)))"
   ]
  },
  {
   "cell_type": "code",
   "execution_count": 9,
   "metadata": {
    "collapsed": false
   },
   "outputs": [],
   "source": [
    "from sklearn.feature_extraction.text import CountVectorizer\n",
    "vectorizer = CountVectorizer()\n",
    "X = vectorizer.fit_transform(corpus)"
   ]
  },
  {
   "cell_type": "code",
   "execution_count": 10,
   "metadata": {
    "collapsed": false
   },
   "outputs": [
    {
     "data": {
      "text/plain": [
       "36311"
      ]
     },
     "execution_count": 10,
     "metadata": {},
     "output_type": "execute_result"
    }
   ],
   "source": [
    "word=vectorizer.get_feature_names()\n",
    "len(word)"
   ]
  },
  {
   "cell_type": "code",
   "execution_count": 11,
   "metadata": {
    "collapsed": false
   },
   "outputs": [
    {
     "data": {
      "text/plain": [
       "(899, 36311)"
      ]
     },
     "execution_count": 11,
     "metadata": {},
     "output_type": "execute_result"
    }
   ],
   "source": [
    "X.shape"
   ]
  },
  {
   "cell_type": "code",
   "execution_count": 12,
   "metadata": {
    "collapsed": false
   },
   "outputs": [],
   "source": [
    "from sklearn.feature_extraction.text import TfidfTransformer\n",
    "transformer=TfidfTransformer()\n",
    "tfidf=transformer.fit_transform(X)"
   ]
  },
  {
   "cell_type": "code",
   "execution_count": 13,
   "metadata": {
    "collapsed": false
   },
   "outputs": [
    {
     "data": {
      "text/plain": [
       "(899, 36311)"
      ]
     },
     "execution_count": 13,
     "metadata": {},
     "output_type": "execute_result"
    }
   ],
   "source": [
    "tfidf.shape"
   ]
  },
  {
   "cell_type": "code",
   "execution_count": 15,
   "metadata": {
    "collapsed": false
   },
   "outputs": [],
   "source": [
    "from sklearn.metrics.pairwise import cosine_similarity\n",
    "cosine_similarities = cosine_similarity(tfidf, tfidf)"
   ]
  },
  {
   "cell_type": "code",
   "execution_count": 20,
   "metadata": {
    "collapsed": false
   },
   "outputs": [
    {
     "name": "stdout",
     "output_type": "stream",
     "text": [
      "川普當選美總統　Janet「不要只想到自己」 1.0\n",
      "Janet崩潰暴哭「很孤單」　揭憂鬱病史絕望吶喊 0.147133807474\n",
      "川普若當選　台灣學者：亞太國家都要重新上課 0.106005826482\n",
      "美大選陷入拉鋸　學者：唐鳳酸川普「眼睛有業障」不妥 0.105698950312\n"
     ]
    }
   ],
   "source": [
    "titles[0]\n",
    "for idx in cosine_similarities[0].argsort()[::-1]:\n",
    "    if  cosine_similarities[0][idx] > 0.1:\n",
    "        print(titles[idx],  cosine_similarities[0][idx])"
   ]
  },
  {
   "cell_type": "code",
   "execution_count": 21,
   "metadata": {
    "collapsed": true
   },
   "outputs": [],
   "source": [
    "def getSimiliarArticle(articleid):\n",
    "    print('查詢新聞:', titles[articleid])\n",
    "    for idx in cosine_similarities[articleid].argsort()[::-1][1:]:\n",
    "        if  cosine_similarities[articleid][idx] > 0.1:\n",
    "            print('相關新聞:', titles[idx],  cosine_similarities[0][idx])"
   ]
  },
  {
   "cell_type": "code",
   "execution_count": 34,
   "metadata": {
    "collapsed": false
   },
   "outputs": [
    {
     "name": "stdout",
     "output_type": "stream",
     "text": [
      "查詢新聞: 馬英九、柯建銘當庭交鋒　柯要求法院這樣做\n",
      "相關新聞: 柯建銘律師聲請羈押馬英九　北院：另案裁定 0.0196625263899\n",
      "相關新聞: 馬英九挨告首出庭　148字捍清白 0.0174159405854\n",
      "相關新聞: 【出庭聲明】馬英九：我沒犯罪　任何人都不應司法關說 0.0183971813619\n",
      "相關新聞: 洪秀柱批柯建銘報私仇　「企圖羞辱馬英九」 0.0130120227732\n",
      "相關新聞: 羅智強：台灣的是非　被一群無臉人埋進棺材 0.0297148629537\n",
      "相關新聞: 【交手片】馬英九出庭應訊　柯建銘：怎有臉跟我辯 0.0111998901418\n",
      "相關新聞: 【壹週刊】馬英九出庭　法界：教唆洩密恐成罪 0.00768503197906\n",
      "相關新聞: 「洩密門」的總統學 0.012359177879\n",
      "相關新聞: 柯建銘告馬英九今開庭　周玉蔻預言「他」會贏 0.0100006164601\n",
      "相關新聞: 十一月九日各報頭條搶先報 0.0763571766517\n",
      "相關新聞: 【有恨片】318學運漫延　就是因為馬英九只考慮那2秒 0.0216065908631\n",
      "相關新聞: 【還原馬王政爭】吳敦義自爆「鍘王」前　馬英九曾猶豫2秒 0.0179290824918\n",
      "相關新聞: 馬英九柯建銘法庭論戰　民眾只給60分 0.0232490516328\n",
      "相關新聞: 台南地院修復啟用　賴清德致詞洗臉司法院長 0.0111318188693\n",
      "相關新聞: 邱太三明拜會許宗力　最高法院可望常態辯論 0.0123889236389\n"
     ]
    }
   ],
   "source": [
    "getSimiliarArticle(351)"
   ]
  },
  {
   "cell_type": "code",
   "execution_count": null,
   "metadata": {
    "collapsed": true
   },
   "outputs": [],
   "source": []
  }
 ],
 "metadata": {
  "kernelspec": {
   "display_name": "Python [Root]",
   "language": "python",
   "name": "Python [Root]"
  },
  "language_info": {
   "codemirror_mode": {
    "name": "ipython",
    "version": 3
   },
   "file_extension": ".py",
   "mimetype": "text/x-python",
   "name": "python",
   "nbconvert_exporter": "python",
   "pygments_lexer": "ipython3",
   "version": "3.5.2"
  }
 },
 "nbformat": 4,
 "nbformat_minor": 0
}
