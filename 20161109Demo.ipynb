{
 "cells": [
  {
   "cell_type": "code",
   "execution_count": 1,
   "metadata": {
    "collapsed": true
   },
   "outputs": [],
   "source": [
    "apple = '''\n",
    "今天揭曉 美首位女總統？ 瘋狂素人總統？\n",
    "川普反移民 想靠「隱性支持者翻盤」 希拉蕊 掃拉丁裔及婦女票\n",
    "2016年11月09日      \n",
    "\n",
    "．希拉蕊目前形勢樂觀，媒體預估能順利當選。法新社 \n",
    "．川普以政治素人之姿，離經叛道的競選方式，也吸引大批支持者。美聯社\n",
    "最後衝刺\n",
    "【綜合報導】全球矚目的美國大選，昨天投票，究竟美國將出現首位女總統希拉蕊，或政治素人兼狂人川普將入主白宮，左右未來4年全球政經情勢，預計台灣時間今天中午揭曉。美國主流媒體預測希拉蕊能拿下過半數、逾270張選舉人票當選；破紀錄的拉丁裔和女性選民提前投票，也對她有利，但截至台灣時間昨深夜最早開出普選票的新罕布夏州3城鎮，川普暫居領先。\n",
    "\n",
    "現年69歲的民主黨候選人希拉蕊（Hillary Clinton）、70歲的共和黨候選人川普（Donald Trump），前天把握最後時間催票。希拉蕊昨晨在紐約州住家附近小學投票站投下一票。現場約150多名支持者，高喊「女總統！」（Madam President）。她投票後微笑說：「我很高興，超級高興。看見這些朋友和鄰居，我好開心。」 \n",
    "\n",
    "\n",
    "最後衝刺 \n",
    "川普前天連跑5州造勢，包括選情緊繃的北卡羅萊納州。美聯社\n",
    "\n",
    "希拉蕊選情樂觀，前晚在北卡羅萊納州的造勢活動延續到昨凌晨，氣氛熱烈。美聯社\n",
    "\n",
    "川普3城鎮領先\n",
    "新罕布夏州數城鎮昨率先在午夜後開放投票，是全美最早的地區之一。當地小鎮「迪克斯維爾山口」8個登記選民完成投票後即開票，希拉蕊以4比2領先，投給希拉蕊的旅社員工說：「她堅強、有經驗，會領導國家走上正確方向。」當地人杜爾森說：「國家必須向前，我不信川普能帶我們走向建設性道路。」不過該州3城鎮開票後，川普以32比25領先，但仍不足以看出該州4張選舉人票歸屬。 \n",
    "\n",
    "\n",
    "4300萬人先投票\n",
    "全美已有逾4300萬人完成提前投票，拉丁裔尤其踴躍，與反移民的川普相比，他們傾巢而出支持希拉蕊。佛羅里達大學提前投票專家史密斯說，到上周三為止：「超過42.9萬的拉丁裔完成提前投票，是4年前的158%。」他也觀察到比過去更多的女性參與提前投票：「她們支持民主黨，或非2大黨，這是所謂的『川普效應』，你若要說誰阻斷川普當選，那就是女性和少數族裔，尤其拉丁裔。」\n",
    "形勢樂觀的希拉蕊，前晚在費城的晚會有4萬人參加，寫下她最多人參與造勢的紀錄，總統歐巴馬、「工人皇帝」布魯斯史普林斯汀為她站台；在北卡羅萊納州，則有「女神卡卡」（Lady Gaga）助威。希拉蕊說：「這次大選有很明確的選擇，要分裂還是團結、要堅強穩定的領導人，或是將一切置於險境的自走砲？」對於期待看到女性當選的人，她疾呼：「讓我們一起寫下歷史吧！」\n",
    "川普雖看似處於劣勢，身旁也沒有明星助陣，但他自信擁有許多「隱性支持者」，能在最後翻轉選情。\n",
    "川普前天勤跑5州造勢，大罵舞弊的制度、騙人的媒體：「你們要美國繼續被腐敗的政治階級統治，或者再次由人民作主？」他要選民「夢想大一點」，允諾終結「背叛的歲月」，將撕毀貿易協定、封鎖邊境、驅散敘利亞難民：「我與你們同在，為你們奮戰，且我們會勝利。」台下支持者高呼：「希拉蕊是惡魔！」「她是女巫！」 \n",
    "\n",
    "外交部密切觀察\n",
    "我行政院長林全昨表示，不論最後哪一位當選，都期待新的領導人，能對世界繁榮和平及永續發展，做出更多的貢獻。我外交部表示，台美關係密切友好，我駐美國代表處及駐美各辦事處平日即與民主、共和兩黨全國委員會及地方性組織保持聯繫與交流，外交部及駐美代表處也已成立專案小組密切觀察並研析呈報。 \n",
    "\n",
    "美國大選觀選指南\n",
    "●關鍵數字：\n",
    "．除緬因和內布拉斯加兩州外，各州均採「贏者全拿」制度，即在該州拿最多普選票者，可獲該州全部選舉人票。美國50州及華府共538張選舉人票，獲270張選舉人票者，即可入主白宮\n",
    "●投票結束：\n",
    "．阿拉斯加州於台灣時間今下午2時關閉投票所，所有投票結束\n",
    "●總統開票：\n",
    "．預計台灣時間今中午12時，加州結束投票後，可知誰是總統贏家。上屆加州開票約15分鐘後，媒體便依出口民調預測歐巴馬連任成功\n",
    "●其他選舉：\n",
    "．國會眾議院435席全改選；參議院100席要改選34席\n",
    "．猶他等12州有州長選舉\n",
    "．另有地方議會議員、法官、市長、警長等選舉\n",
    "．35州舉行公投，如加州公投表決是否要求A片演員戴套\n",
    "資料來源：綜合外電 \n",
    "\n",
    "'''"
   ]
  },
  {
   "cell_type": "code",
   "execution_count": 12,
   "metadata": {
    "collapsed": false
   },
   "outputs": [],
   "source": [
    "import jieba\n",
    "jieba.load_userdict(\"userdict.txt\")\n",
    "\n",
    "word_list = []\n",
    "for word in jieba.cut(apple):\n",
    "    word_list.append(word)"
   ]
  },
  {
   "cell_type": "markdown",
   "metadata": {},
   "source": [
    "## 用字典統計字詞"
   ]
  },
  {
   "cell_type": "code",
   "execution_count": 14,
   "metadata": {
    "collapsed": false
   },
   "outputs": [
    {
     "data": {
      "text/plain": [
       "{'a': 3, 'b': 2, 'c': 1}"
      ]
     },
     "execution_count": 14,
     "metadata": {},
     "output_type": "execute_result"
    }
   ],
   "source": [
    "a = ['a', 'b', 'c', 'a', 'b', 'a']\n",
    "count_dic = {}\n",
    "for ele in a:\n",
    "    if ele not in count_dic:\n",
    "        count_dic[ele] = 1\n",
    "    else:\n",
    "        count_dic[ele] = count_dic[ele] + 1\n",
    "count_dic"
   ]
  },
  {
   "cell_type": "code",
   "execution_count": 27,
   "metadata": {
    "collapsed": false
   },
   "outputs": [],
   "source": [
    "import jieba\n",
    "jieba.load_userdict(\"userdict.txt\")\n",
    "\n",
    "# 使用Jieba 切詞\n",
    "word_list = []\n",
    "for word in jieba.cut(apple):\n",
    "    word_list.append(word)\n",
    "\n",
    "# 用字典統計字詞\n",
    "count_dic = {}\n",
    "for word in word_list:\n",
    "    if word not in count_dic:\n",
    "        count_dic[word] = 1\n",
    "    else:\n",
    "        count_dic[word] = count_dic[word] + 1"
   ]
  },
  {
   "cell_type": "code",
   "execution_count": 28,
   "metadata": {
    "collapsed": false
   },
   "outputs": [],
   "source": [
    "import operator\n",
    "swd = sorted(count_dic.items(), key=operator.itemgetter(1), reverse=True)"
   ]
  },
  {
   "cell_type": "code",
   "execution_count": 32,
   "metadata": {
    "collapsed": false
   },
   "outputs": [
    {
     "name": "stdout",
     "output_type": "stream",
     "text": [
      "川普 14\n",
      "投票 14\n",
      "希拉蕊 13\n",
      "當選 5\n",
      "提前 5\n",
      "支持者 5\n",
      "拉丁裔 5\n",
      "選舉人票 5\n",
      "美國 4\n",
      "台灣 4\n",
      "時間 4\n",
      "造勢 4\n",
      "開票 4\n",
      "女性 4\n",
      "領先 4\n",
      "城鎮 4\n",
      "媒體 4\n",
      "總統 4\n"
     ]
    }
   ],
   "source": [
    "for item in swd:\n",
    "    #print(item)\n",
    "    word, cnt =item\n",
    "    if len(word) >= 2 and cnt >= 4:\n",
    "        print(word, cnt)"
   ]
  },
  {
   "cell_type": "code",
   "execution_count": null,
   "metadata": {
    "collapsed": true
   },
   "outputs": [],
   "source": []
  }
 ],
 "metadata": {
  "kernelspec": {
   "display_name": "Python [Root]",
   "language": "python",
   "name": "Python [Root]"
  },
  "language_info": {
   "codemirror_mode": {
    "name": "ipython",
    "version": 3
   },
   "file_extension": ".py",
   "mimetype": "text/x-python",
   "name": "python",
   "nbconvert_exporter": "python",
   "pygments_lexer": "ipython3",
   "version": "3.5.2"
  }
 },
 "nbformat": 4,
 "nbformat_minor": 0
}
