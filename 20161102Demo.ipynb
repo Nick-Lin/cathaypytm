{
 "cells": [
  {
   "cell_type": "code",
   "execution_count": 2,
   "metadata": {
    "collapsed": false
   },
   "outputs": [
    {
     "data": {
      "text/plain": [
       "['this', 'is', 'a', 'book']"
      ]
     },
     "execution_count": 2,
     "metadata": {},
     "output_type": "execute_result"
    }
   ],
   "source": [
    "a = 'this is a book'\n",
    "a.split()"
   ]
  },
  {
   "cell_type": "code",
   "execution_count": 7,
   "metadata": {
    "collapsed": false
   },
   "outputs": [
    {
     "name": "stdout",
     "output_type": "stream",
     "text": [
      "酸民婉君\n",
      "也\n",
      "可以\n",
      "報名\n",
      "嗎\n",
      "?\n"
     ]
    }
   ],
   "source": [
    "import jieba\n",
    "a = '酸民婉君也可以報名嗎?'\n",
    "for w in jieba.cut(a):\n",
    "    print(w)"
   ]
  },
  {
   "cell_type": "code",
   "execution_count": 9,
   "metadata": {
    "collapsed": true
   },
   "outputs": [],
   "source": [
    "s = '在南韓總統朴槿惠(Park Geun-hye)因密友崔順實(Choi Soon-sil)涉嫌干政而身陷醜聞之後，南韓總統府今天(2日)提名新任總理、財政部長與國民安全部部長。青瓦台表示，提名金融委員會委員長任鍾龍(Yim Jong-yong)為新任的財政部長兼副總理，朴升柱為國民安全部部長。青瓦台也提名金秉準(Kim Byong-joon)為新任總理。金秉準過去曾在前總統盧武鉉(Roh Moo-hyun)政府擔任總統府高級幕僚'"
   ]
  },
  {
   "cell_type": "code",
   "execution_count": 10,
   "metadata": {
    "collapsed": false
   },
   "outputs": [
    {
     "data": {
      "text/plain": [
       "'在南韓總統朴槿惠(Park Geun-hye)因密友崔順實(Choi Soon-sil)涉嫌干政而身陷醜聞之後，南韓總統府今天(2日)提名新任總理、財政部長與國民安全部部長。青瓦台表示，提名金融委員會委員長任鍾龍(Yim Jong-yong)為新任的財政部長兼副總理，朴升柱為國民安全部部長。青瓦台也提名金秉準(Kim Byong-joon)為新任總理。金秉準過去曾在前總統盧武鉉(Roh Moo-hyun)政府擔任總統府高級幕僚'"
      ]
     },
     "execution_count": 10,
     "metadata": {},
     "output_type": "execute_result"
    }
   ],
   "source": [
    "s"
   ]
  },
  {
   "cell_type": "code",
   "execution_count": 15,
   "metadata": {
    "collapsed": false
   },
   "outputs": [
    {
     "data": {
      "text/plain": [
       "['在南韓總統朴槿惠',\n",
       " 'Park Geun-hye',\n",
       " '因密友崔順實',\n",
       " 'Choi Soon-sil',\n",
       " '涉嫌干政而身陷醜聞之後',\n",
       " '南韓總統府今天',\n",
       " '2日',\n",
       " '提名新任總理',\n",
       " '財政部長與國民安全部部長',\n",
       " '青瓦台表示',\n",
       " '提名金融委員會委員長任鍾龍',\n",
       " 'Yim Jong-yong',\n",
       " '為新任的財政部長兼副總理',\n",
       " '朴升柱為國民安全部部長',\n",
       " '青瓦台也提名金秉準',\n",
       " 'Kim Byong-joon',\n",
       " '為新任總理',\n",
       " '金秉準過去曾在前總統盧武鉉',\n",
       " 'Roh Moo-hyun',\n",
       " '政府擔任總統府高級幕僚']"
      ]
     },
     "execution_count": 15,
     "metadata": {},
     "output_type": "execute_result"
    }
   ],
   "source": [
    "import re\n",
    "re.split('。|，|、|\\(|\\)', s)"
   ]
  },
  {
   "cell_type": "code",
   "execution_count": 16,
   "metadata": {
    "collapsed": false
   },
   "outputs": [
    {
     "name": "stdout",
     "output_type": "stream",
     "text": [
      "Full Mode: 大/ 巨蛋/ 案/ 對/ 市府/ 同仁/ 下/ 封口/ 封口令/ 口令/ / / 柯/ P/ 否/ 認\n"
     ]
    }
   ],
   "source": [
    "import jieba\n",
    "s = \"大巨蛋案對市府同仁下封口令？柯P否認\"\n",
    "seg_list=jieba.cut(s,cut_all=True)\n",
    "print(\"Full Mode:\",\"/ \".join(seg_list))"
   ]
  },
  {
   "cell_type": "code",
   "execution_count": 17,
   "metadata": {
    "collapsed": false
   },
   "outputs": [
    {
     "name": "stdout",
     "output_type": "stream",
     "text": [
      "Full Mode: 大/ 巨蛋/ 案對/ 市府/ 同仁/ 下/ 封口令/ ？/ 柯/ P/ 否認\n"
     ]
    }
   ],
   "source": [
    "import jieba\n",
    "s = \"大巨蛋案對市府同仁下封口令？柯P否認\"\n",
    "seg_list=jieba.cut(s,cut_all=False)\n",
    "print(\"Full Mode:\",\"/ \".join(seg_list))"
   ]
  },
  {
   "cell_type": "code",
   "execution_count": 5,
   "metadata": {
    "collapsed": false
   },
   "outputs": [
    {
     "name": "stdout",
     "output_type": "stream",
     "text": [
      "酸民\n",
      "婉君\n",
      "也\n",
      "可以\n",
      "報名\n",
      "嗎\n",
      "?\n"
     ]
    }
   ],
   "source": [
    "import jieba\n",
    "jieba.load_userdict(\"userdict.txt\")\n",
    "a = '酸民婉君也可以報名嗎?'\n",
    "for w in jieba.cut(a):\n",
    "    print(w)\n"
   ]
  },
  {
   "cell_type": "code",
   "execution_count": null,
   "metadata": {
    "collapsed": true
   },
   "outputs": [],
   "source": []
  }
 ],
 "metadata": {
  "kernelspec": {
   "display_name": "Python [Root]",
   "language": "python",
   "name": "Python [Root]"
  },
  "language_info": {
   "codemirror_mode": {
    "name": "ipython",
    "version": 3
   },
   "file_extension": ".py",
   "mimetype": "text/x-python",
   "name": "python",
   "nbconvert_exporter": "python",
   "pygments_lexer": "ipython3",
   "version": "3.5.2"
  }
 },
 "nbformat": 4,
 "nbformat_minor": 0
}
