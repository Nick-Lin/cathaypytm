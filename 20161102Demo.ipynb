{
 "cells": [
  {
   "cell_type": "markdown",
   "metadata": {},
   "source": [
    "##  英文斷詞"
   ]
  },
  {
   "cell_type": "code",
   "execution_count": 2,
   "metadata": {
    "collapsed": false
   },
   "outputs": [
    {
     "data": {
      "text/plain": [
       "['this', 'is', 'a', 'book']"
      ]
     },
     "execution_count": 2,
     "metadata": {},
     "output_type": "execute_result"
    }
   ],
   "source": [
    "a = 'this is a book'\n",
    "a.split()"
   ]
  },
  {
   "cell_type": "markdown",
   "metadata": {},
   "source": [
    "## 中文斷詞"
   ]
  },
  {
   "cell_type": "code",
   "execution_count": 7,
   "metadata": {
    "collapsed": false
   },
   "outputs": [
    {
     "name": "stdout",
     "output_type": "stream",
     "text": [
      "酸民婉君\n",
      "也\n",
      "可以\n",
      "報名\n",
      "嗎\n",
      "?\n"
     ]
    }
   ],
   "source": [
    "import jieba\n",
    "a = '酸民婉君也可以報名嗎?'\n",
    "for w in jieba.cut(a):\n",
    "    print(w)"
   ]
  },
  {
   "cell_type": "code",
   "execution_count": 9,
   "metadata": {
    "collapsed": true
   },
   "outputs": [],
   "source": [
    "s = '在南韓總統朴槿惠(Park Geun-hye)因密友崔順實(Choi Soon-sil)涉嫌干政而身陷醜聞之後，南韓總統府今天(2日)提名新任總理、財政部長與國民安全部部長。青瓦台表示，提名金融委員會委員長任鍾龍(Yim Jong-yong)為新任的財政部長兼副總理，朴升柱為國民安全部部長。青瓦台也提名金秉準(Kim Byong-joon)為新任總理。金秉準過去曾在前總統盧武鉉(Roh Moo-hyun)政府擔任總統府高級幕僚'"
   ]
  },
  {
   "cell_type": "code",
   "execution_count": 10,
   "metadata": {
    "collapsed": false
   },
   "outputs": [
    {
     "data": {
      "text/plain": [
       "'在南韓總統朴槿惠(Park Geun-hye)因密友崔順實(Choi Soon-sil)涉嫌干政而身陷醜聞之後，南韓總統府今天(2日)提名新任總理、財政部長與國民安全部部長。青瓦台表示，提名金融委員會委員長任鍾龍(Yim Jong-yong)為新任的財政部長兼副總理，朴升柱為國民安全部部長。青瓦台也提名金秉準(Kim Byong-joon)為新任總理。金秉準過去曾在前總統盧武鉉(Roh Moo-hyun)政府擔任總統府高級幕僚'"
      ]
     },
     "execution_count": 10,
     "metadata": {},
     "output_type": "execute_result"
    }
   ],
   "source": [
    "s"
   ]
  },
  {
   "cell_type": "markdown",
   "metadata": {},
   "source": [
    "## 正規表達法斷句"
   ]
  },
  {
   "cell_type": "code",
   "execution_count": 15,
   "metadata": {
    "collapsed": false
   },
   "outputs": [
    {
     "data": {
      "text/plain": [
       "['在南韓總統朴槿惠',\n",
       " 'Park Geun-hye',\n",
       " '因密友崔順實',\n",
       " 'Choi Soon-sil',\n",
       " '涉嫌干政而身陷醜聞之後',\n",
       " '南韓總統府今天',\n",
       " '2日',\n",
       " '提名新任總理',\n",
       " '財政部長與國民安全部部長',\n",
       " '青瓦台表示',\n",
       " '提名金融委員會委員長任鍾龍',\n",
       " 'Yim Jong-yong',\n",
       " '為新任的財政部長兼副總理',\n",
       " '朴升柱為國民安全部部長',\n",
       " '青瓦台也提名金秉準',\n",
       " 'Kim Byong-joon',\n",
       " '為新任總理',\n",
       " '金秉準過去曾在前總統盧武鉉',\n",
       " 'Roh Moo-hyun',\n",
       " '政府擔任總統府高級幕僚']"
      ]
     },
     "execution_count": 15,
     "metadata": {},
     "output_type": "execute_result"
    }
   ],
   "source": [
    "import re\n",
    "re.split('。|，|、|\\(|\\)', s)"
   ]
  },
  {
   "cell_type": "markdown",
   "metadata": {},
   "source": [
    "## 全模式切詞"
   ]
  },
  {
   "cell_type": "code",
   "execution_count": 16,
   "metadata": {
    "collapsed": false
   },
   "outputs": [
    {
     "name": "stdout",
     "output_type": "stream",
     "text": [
      "Full Mode: 大/ 巨蛋/ 案/ 對/ 市府/ 同仁/ 下/ 封口/ 封口令/ 口令/ / / 柯/ P/ 否/ 認\n"
     ]
    }
   ],
   "source": [
    "import jieba\n",
    "s = \"大巨蛋案對市府同仁下封口令？柯P否認\"\n",
    "seg_list=jieba.cut(s,cut_all=True)\n",
    "print(\"Full Mode:\",\"/ \".join(seg_list))"
   ]
  },
  {
   "cell_type": "markdown",
   "metadata": {},
   "source": [
    "## 精準模式切詞"
   ]
  },
  {
   "cell_type": "code",
   "execution_count": 17,
   "metadata": {
    "collapsed": false
   },
   "outputs": [
    {
     "name": "stdout",
     "output_type": "stream",
     "text": [
      "Full Mode: 大/ 巨蛋/ 案對/ 市府/ 同仁/ 下/ 封口令/ ？/ 柯/ P/ 否認\n"
     ]
    }
   ],
   "source": [
    "import jieba\n",
    "s = \"大巨蛋案對市府同仁下封口令？柯P否認\"\n",
    "seg_list=jieba.cut(s,cut_all=False)\n",
    "print(\"Full Mode:\",\"/ \".join(seg_list))"
   ]
  },
  {
   "cell_type": "markdown",
   "metadata": {},
   "source": [
    "## 載入字典"
   ]
  },
  {
   "cell_type": "code",
   "execution_count": 5,
   "metadata": {
    "collapsed": false
   },
   "outputs": [
    {
     "name": "stdout",
     "output_type": "stream",
     "text": [
      "酸民\n",
      "婉君\n",
      "也\n",
      "可以\n",
      "報名\n",
      "嗎\n",
      "?\n"
     ]
    }
   ],
   "source": [
    "import jieba\n",
    "jieba.load_userdict(\"userdict.txt\")\n",
    "a = '酸民婉君也可以報名嗎?'\n",
    "for w in jieba.cut(a):\n",
    "    print(w)\n"
   ]
  },
  {
   "cell_type": "markdown",
   "metadata": {},
   "source": [
    "## 將List 合併成字串"
   ]
  },
  {
   "cell_type": "code",
   "execution_count": 10,
   "metadata": {
    "collapsed": false
   },
   "outputs": [
    {
     "data": {
      "text/plain": [
       "'a-b-c'"
      ]
     },
     "execution_count": 10,
     "metadata": {},
     "output_type": "execute_result"
    }
   ],
   "source": [
    "a = ['a', 'b', 'c']\n",
    "'-'.join(a)"
   ]
  },
  {
   "cell_type": "markdown",
   "metadata": {},
   "source": [
    "##  Full Mode Segmentation"
   ]
  },
  {
   "cell_type": "code",
   "execution_count": 12,
   "metadata": {
    "collapsed": false
   },
   "outputs": [
    {
     "name": "stdout",
     "output_type": "stream",
     "text": [
      "Full Mode: 大/ 巨蛋/ 案/ 對/ 市府/ 同仁/ 下/ 封口/ 封口令/ 口令/ / / 柯/ P/ 否/ 認\n"
     ]
    }
   ],
   "source": [
    "import jieba\n",
    "s = \"大巨蛋案對市府同仁下封口令？柯P否認\"\n",
    "seg_list =jieba.cut(s , cut_all=True)\n",
    "#for w in seg_list:\n",
    "#    print(w)\n",
    "    \n",
    "print(\"Full Mode:\",\"/ \".join(seg_list))"
   ]
  },
  {
   "cell_type": "markdown",
   "metadata": {},
   "source": [
    "## Default Mode Segmentation"
   ]
  },
  {
   "cell_type": "code",
   "execution_count": 13,
   "metadata": {
    "collapsed": false
   },
   "outputs": [
    {
     "name": "stdout",
     "output_type": "stream",
     "text": [
      "Default Mode: 大/ 巨蛋/ 案對/ 市府/ 同仁/ 下/ 封口令/ ？/ 柯/ P/ 否認\n"
     ]
    }
   ],
   "source": [
    "seg_list =jieba.cut(s , cut_all=False)\n",
    "    \n",
    "print(\"Default Mode:\",\"/ \".join(seg_list))"
   ]
  },
  {
   "cell_type": "code",
   "execution_count": 15,
   "metadata": {
    "collapsed": false
   },
   "outputs": [
    {
     "name": "stdout",
     "output_type": "stream",
     "text": [
      "Default Mode: 大巨蛋/ 案對/ 市府/ 同仁/ 下/ 封口令/ ？/ 柯P/ 否認\n"
     ]
    }
   ],
   "source": [
    "import jieba\n",
    "jieba.load_userdict(\"userdict.txt\")\n",
    "seg_list =jieba.cut(s )\n",
    "print(\"Default Mode:\",\"/ \".join(seg_list))"
   ]
  },
  {
   "cell_type": "markdown",
   "metadata": {},
   "source": [
    "## 取出詞性"
   ]
  },
  {
   "cell_type": "code",
   "execution_count": 18,
   "metadata": {
    "collapsed": false
   },
   "outputs": [
    {
     "name": "stdout",
     "output_type": "stream",
     "text": [
      "大巨蛋 ns\n",
      "案 ng\n",
      "對 p\n",
      "市府 n\n",
      "同仁 nr\n",
      "下 f\n",
      "封口令 n\n",
      "？ x\n",
      "柯P nr\n",
      "否認 v\n"
     ]
    }
   ],
   "source": [
    "import jieba.posseg as pseg\n",
    "jieba.load_userdict(\"userdict.txt\")\n",
    "seg_list = pseg.cut(s)\n",
    "for w in seg_list:\n",
    "    #print(w)\n",
    "    print(w.word, w.flag)"
   ]
  },
  {
   "cell_type": "markdown",
   "metadata": {},
   "source": [
    "## 抓出字詞位置"
   ]
  },
  {
   "cell_type": "code",
   "execution_count": 20,
   "metadata": {
    "collapsed": false
   },
   "outputs": [
    {
     "name": "stdout",
     "output_type": "stream",
     "text": [
      "大巨蛋 0 3\n",
      "案對 3 5\n",
      "市府 5 7\n",
      "同仁 7 9\n",
      "下 9 10\n",
      "封口令 10 13\n",
      "？ 13 14\n",
      "柯P 14 16\n",
      "否認 16 18\n"
     ]
    }
   ],
   "source": [
    "words=jieba.tokenize(s)\n",
    "for tw in words:\n",
    "    print(tw[0],tw[1],tw[2])"
   ]
  },
  {
   "cell_type": "markdown",
   "metadata": {},
   "source": [
    "## 提取關鍵字"
   ]
  },
  {
   "cell_type": "code",
   "execution_count": 22,
   "metadata": {
    "collapsed": false
   },
   "outputs": [
    {
     "name": "stdout",
     "output_type": "stream",
     "text": [
      "封口令\n"
     ]
    }
   ],
   "source": [
    "import jieba.analyse\n",
    "tags=jieba.analyse.extract_tags(s, 1)\n",
    "print(\",\".join(tags))"
   ]
  },
  {
   "cell_type": "code",
   "execution_count": 24,
   "metadata": {
    "collapsed": false
   },
   "outputs": [
    {
     "name": "stdout",
     "output_type": "stream",
     "text": [
      "柯P\n"
     ]
    }
   ],
   "source": [
    "tags=jieba.analyse.extract_tags(s,1,allowPOS=['nr'])\n",
    "print(\",\".join(tags))"
   ]
  },
  {
   "cell_type": "markdown",
   "metadata": {},
   "source": [
    "## n-gram 切詞"
   ]
  },
  {
   "cell_type": "code",
   "execution_count": 30,
   "metadata": {
    "collapsed": false
   },
   "outputs": [
    {
     "name": "stdout",
     "output_type": "stream",
     "text": [
      "那我\n",
      "我們\n",
      "們酸\n",
      "酸民\n",
      "民婉\n",
      "婉君\n",
      "君也\n",
      "也可\n",
      "可以\n",
      "以報\n",
      "報名\n",
      "名嗎\n"
     ]
    }
   ],
   "source": [
    "sentence='那我們酸民婉君也可以報名嗎'\n",
    "#print(sentence[0:2])\n",
    "for i in range(0, len(sentence) - 2 + 1):\n",
    "    print(sentence[i:i+2])"
   ]
  },
  {
   "cell_type": "markdown",
   "metadata": {},
   "source": [
    "## Tri-Gram"
   ]
  },
  {
   "cell_type": "code",
   "execution_count": 32,
   "metadata": {
    "collapsed": false
   },
   "outputs": [
    {
     "name": "stdout",
     "output_type": "stream",
     "text": [
      "那我們\n",
      "我們酸\n",
      "們酸民\n",
      "酸民婉\n",
      "民婉君\n",
      "婉君也\n",
      "君也可\n",
      "也可以\n",
      "可以報\n",
      "以報名\n",
      "報名嗎\n"
     ]
    }
   ],
   "source": [
    "sentence='那我們酸民婉君也可以報名嗎'\n",
    "\n",
    "for i in range(0, len(sentence) - 3 + 1):\n",
    "    print(sentence[i:i+3])"
   ]
  },
  {
   "cell_type": "markdown",
   "metadata": {},
   "source": [
    "## 4 Gram"
   ]
  },
  {
   "cell_type": "code",
   "execution_count": 33,
   "metadata": {
    "collapsed": false
   },
   "outputs": [
    {
     "name": "stdout",
     "output_type": "stream",
     "text": [
      "那我們酸\n",
      "我們酸民\n",
      "們酸民婉\n",
      "酸民婉君\n",
      "民婉君也\n",
      "婉君也可\n",
      "君也可以\n",
      "也可以報\n",
      "可以報名\n",
      "以報名嗎\n"
     ]
    }
   ],
   "source": [
    "sentence='那我們酸民婉君也可以報名嗎'\n",
    "\n",
    "for i in range(0, len(sentence) - 4 + 1):\n",
    "    print(sentence[i:i+4])"
   ]
  },
  {
   "cell_type": "markdown",
   "metadata": {},
   "source": [
    "## 建立n-gram 函式"
   ]
  },
  {
   "cell_type": "code",
   "execution_count": 34,
   "metadata": {
    "collapsed": true
   },
   "outputs": [],
   "source": [
    "def ngram(sentence, n = 2):\n",
    "    sentence_ary = []\n",
    "    for i in range(0, len(sentence) - n + 1):\n",
    "        sentence_ary.append(sentence[i:i+n])\n",
    "    return sentence_ary\n"
   ]
  },
  {
   "cell_type": "code",
   "execution_count": 37,
   "metadata": {
    "collapsed": false
   },
   "outputs": [
    {
     "data": {
      "text/plain": [
       "['那我們酸',\n",
       " '我們酸民',\n",
       " '們酸民婉',\n",
       " '酸民婉君',\n",
       " '民婉君也',\n",
       " '婉君也可',\n",
       " '君也可以',\n",
       " '也可以報',\n",
       " '可以報名',\n",
       " '以報名嗎']"
      ]
     },
     "execution_count": 37,
     "metadata": {},
     "output_type": "execute_result"
    }
   ],
   "source": [
    "ngram(sentence, 4)"
   ]
  },
  {
   "cell_type": "markdown",
   "metadata": {},
   "source": [
    "## 針對n-gram 進行統計"
   ]
  },
  {
   "cell_type": "code",
   "execution_count": 50,
   "metadata": {
    "collapsed": false
   },
   "outputs": [
    {
     "data": {
      "text/plain": [
       "[('姸憬', 3), ('余天', 3), ('李姸', 3)]"
      ]
     },
     "execution_count": 50,
     "metadata": {},
     "output_type": "execute_result"
    }
   ],
   "source": [
    "sentence = '''李姸憬和賀姓計程車運將互毆案越演越烈，余天前天陪李姸憬開記者會，義正嚴詞卻遭警方打臉，還被網友諷「挺朋友很好，出門要帶腦」，對此余天昨表示自己立場中立，不後悔幫李姸憬出頭，老婆李亞萍也力挺，不過他的兒子余祥銓卻過意不去，因為是他請余天出馬'''\n",
    "\n",
    "import re\n",
    "from collections import Counter\n",
    "n = 2\n",
    "sentence_ary = []\n",
    "\n",
    "# 斷句\n",
    "seg_sentence = re.split('，|」|「', sentence)\n",
    "\n",
    "# 根據每個句子取n-gram\n",
    "for seg in seg_sentence:\n",
    "    for i in range(0, len(seg) - n + 1):\n",
    "        sentence_ary.append(seg[i:i+n])\n",
    "        \n",
    "# 使用Counter 計算字詞頻率\n",
    "c = Counter(sentence_ary)\n",
    "c.most_common(3)"
   ]
  },
  {
   "cell_type": "markdown",
   "metadata": {},
   "source": [
    "## 建立n-gram 統計函式"
   ]
  },
  {
   "cell_type": "code",
   "execution_count": 51,
   "metadata": {
    "collapsed": true
   },
   "outputs": [],
   "source": [
    "def ngram(sentence, n = 2):\n",
    "    sentence_ary = []\n",
    "    \n",
    "    # 斷句\n",
    "    seg_sentence = re.split('，|」|「', sentence)\n",
    "\n",
    "    # 根據每個句子取n-gram\n",
    "    for seg in seg_sentence:\n",
    "        for i in range(0, len(seg) - n + 1):\n",
    "            sentence_ary.append(seg[i:i+n])\n",
    "\n",
    "    # 使用Counter 計算字詞頻率\n",
    "    c = Counter(sentence_ary)\n",
    "    \n",
    "    return c"
   ]
  },
  {
   "cell_type": "markdown",
   "metadata": {},
   "source": [
    "## n-gram 範例"
   ]
  },
  {
   "cell_type": "code",
   "execution_count": 54,
   "metadata": {
    "collapsed": false
   },
   "outputs": [
    {
     "data": {
      "text/plain": [
       "[('李姸憬', 3), ('憬開記', 1), ('方打臉', 1)]"
      ]
     },
     "execution_count": 54,
     "metadata": {},
     "output_type": "execute_result"
    }
   ],
   "source": [
    "sentence = '''李姸憬和賀姓計程車運將互毆案越演越烈，余天前天陪李姸憬開記者會，義正嚴詞卻遭警方打臉，還被網友諷「挺朋友很好，出門要帶腦」，對此余天昨表示自己立場中立，不後悔幫李姸憬出頭，老婆李亞萍也力挺，不過他的兒子余祥銓卻過意不去，因為是他請余天出馬'''\n",
    "c = ngram(sentence, 3)\n",
    "c.most_common(3)"
   ]
  },
  {
   "cell_type": "markdown",
   "metadata": {},
   "source": [
    "## 使用字典做統計"
   ]
  },
  {
   "cell_type": "code",
   "execution_count": 43,
   "metadata": {
    "collapsed": false
   },
   "outputs": [
    {
     "data": {
      "text/plain": [
       "{'a': 3, 'b': 2, 'c': 1}"
      ]
     },
     "execution_count": 43,
     "metadata": {},
     "output_type": "execute_result"
    }
   ],
   "source": [
    "a   =  ['a', 'b', 'a', 'b', 'c', 'a']\n",
    "dic =  {}\n",
    "\n",
    "for w in a:\n",
    "    if w not in dic:\n",
    "        dic[w] = 1\n",
    "    else:\n",
    "        dic[w] = dic[w] + 1\n",
    "\n",
    "dic"
   ]
  },
  {
   "cell_type": "markdown",
   "metadata": {},
   "source": [
    "## Counter\n",
    "- https://docs.python.org/3/library/collections.html"
   ]
  },
  {
   "cell_type": "code",
   "execution_count": 45,
   "metadata": {
    "collapsed": false
   },
   "outputs": [
    {
     "data": {
      "text/plain": [
       "[('a', 3), ('b', 2), ('c', 1)]"
      ]
     },
     "execution_count": 45,
     "metadata": {},
     "output_type": "execute_result"
    }
   ],
   "source": [
    "from collections import Counter\n",
    "c = Counter(a)\n",
    "c.most_common(3)"
   ]
  },
  {
   "cell_type": "markdown",
   "metadata": {},
   "source": [
    "## 正規表達法斷句"
   ]
  },
  {
   "cell_type": "code",
   "execution_count": 55,
   "metadata": {
    "collapsed": false
   },
   "outputs": [
    {
     "name": "stdout",
     "output_type": "stream",
     "text": [
      "國泰金融集團長期支持籃球運動\n",
      "2010年11月起更成為NBA台灣地區金融業獨家合作夥伴\n",
      "在國泰金融集團的支持贊助下\n",
      "林書豪於2011/8/9\n",
      "2011/8/12返台\n",
      "參加\n",
      "2011國泰夢想小勇士林書豪籃球訓練營\n",
      "\n",
      "指導國中\n",
      "國小學生籃球技巧\n",
      "除此之外\n",
      "為了讓球迷朋友與家長一窺林書豪學業球技兩得意的成功秘訣\n",
      "國泰人壽特別於2011/8/12舉辦\n",
      "國泰菁英育成\n",
      "哈佛小子林書豪的NBA之路\n",
      "球迷見面會\n",
      "暢談林書豪的成長過程及求學經驗談\n",
      "\n"
     ]
    }
   ],
   "source": [
    "import re \n",
    "delimiter=\"，|。|、|\\(|\\)|『|』|-|【|】|~\"\n",
    "text='''國泰金融集團長期支持籃球運動，2010年11月起更成為NBA台灣地區金融業獨家合作夥伴。在國泰金融集團的支持贊助下，林書豪於2011/8/9~2011/8/12返台，參加【2011國泰夢想小勇士林書豪籃球訓練營】，指導國中、國小學生籃球技巧。除此之外，為了讓球迷朋友與家長一窺林書豪學業球技兩得意的成功秘訣，國泰人壽特別於2011/8/12舉辦『國泰菁英育成-哈佛小子林書豪的NBA之路』球迷見面會，暢談林書豪的成長過程及求學經驗談。'''\n",
    "sentenceAry=re.split(delimiter,text)\n",
    "for i in re.split(delimiter,text):\n",
    "    print(i)"
   ]
  },
  {
   "cell_type": "code",
   "execution_count": 57,
   "metadata": {
    "collapsed": false
   },
   "outputs": [
    {
     "data": {
      "text/plain": [
       "'國泰金融集團長期支持運動'"
      ]
     },
     "execution_count": 57,
     "metadata": {},
     "output_type": "execute_result"
    }
   ],
   "source": [
    "a= '國泰金融集團長期支持籃球運動'\n",
    "''.join(a.split('籃球'))"
   ]
  },
  {
   "cell_type": "markdown",
   "metadata": {},
   "source": [
    "## 移除關鍵字函式"
   ]
  },
  {
   "cell_type": "code",
   "execution_count": 60,
   "metadata": {
    "collapsed": true
   },
   "outputs": [],
   "source": [
    "def removeKey(text,keyword):\n",
    "    textAry=text\n",
    "    for key in keyword:\n",
    "        textAry=''.join(textAry.split(key))\n",
    "    return textAry"
   ]
  },
  {
   "cell_type": "code",
   "execution_count": 61,
   "metadata": {
    "collapsed": false
   },
   "outputs": [
    {
     "data": {
      "text/plain": [
       "'將公布'"
      ]
     },
     "execution_count": 61,
     "metadata": {},
     "output_type": "execute_result"
    }
   ],
   "source": [
    "removeKey('民進黨後天將公布' , ['民進黨', '後天'])"
   ]
  },
  {
   "cell_type": "code",
   "execution_count": null,
   "metadata": {
    "collapsed": true
   },
   "outputs": [],
   "source": []
  }
 ],
 "metadata": {
  "kernelspec": {
   "display_name": "Python [Root]",
   "language": "python",
   "name": "Python [Root]"
  },
  "language_info": {
   "codemirror_mode": {
    "name": "ipython",
    "version": 3
   },
   "file_extension": ".py",
   "mimetype": "text/x-python",
   "name": "python",
   "nbconvert_exporter": "python",
   "pygments_lexer": "ipython3",
   "version": "3.5.2"
  }
 },
 "nbformat": 4,
 "nbformat_minor": 0
}
