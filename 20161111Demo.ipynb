{
 "cells": [
  {
   "cell_type": "code",
   "execution_count": null,
   "metadata": {
    "collapsed": true
   },
   "outputs": [],
   "source": [
    "f = open('1435449602.xml', 'r')\n",
    "article = f.read()\n",
    "f.close()"
   ]
  },
  {
   "cell_type": "markdown",
   "metadata": {},
   "source": [
    "## 將XML 資料讀取進成xml 架構"
   ]
  },
  {
   "cell_type": "code",
   "execution_count": 2,
   "metadata": {
    "collapsed": false
   },
   "outputs": [
    {
     "data": {
      "text/plain": [
       "xml.etree.ElementTree.Element"
      ]
     },
     "execution_count": 2,
     "metadata": {},
     "output_type": "execute_result"
    }
   ],
   "source": [
    "from xml.etree import ElementTree\n",
    "with open('1435449602.xml','r',encoding='utf-8') as f:\n",
    "    events=ElementTree.fromstring(f.read())\n",
    "\n",
    "type(events)"
   ]
  },
  {
   "cell_type": "markdown",
   "metadata": {},
   "source": [
    "## 從item 之中分別取得標題與內文，並進行切詞"
   ]
  },
  {
   "cell_type": "code",
   "execution_count": 12,
   "metadata": {
    "collapsed": false
   },
   "outputs": [],
   "source": [
    "import jieba, re\n",
    "\n",
    "corpus = []\n",
    "titles = []\n",
    "for elem in events.findall('./channel/item'):\n",
    "    title       = elem.find('title').text\n",
    "    description = elem.find('description').text\n",
    "    titles.append(title)\n",
    "    article = []\n",
    "    for word in jieba.cut(description):\n",
    "        if re.match('[\\u4e00-\\u9fa5]+', word):\n",
    "            article.append(word)\n",
    "    corpus.append(' '.join(article))"
   ]
  },
  {
   "cell_type": "markdown",
   "metadata": {},
   "source": [
    "## 建立詞頻矩陣"
   ]
  },
  {
   "cell_type": "code",
   "execution_count": 13,
   "metadata": {
    "collapsed": false
   },
   "outputs": [],
   "source": [
    "from sklearn.feature_extraction.text import CountVectorizer\n",
    "vectorizer = CountVectorizer()\n",
    "X = vectorizer.fit_transform(corpus)"
   ]
  },
  {
   "cell_type": "code",
   "execution_count": 14,
   "metadata": {
    "collapsed": false
   },
   "outputs": [
    {
     "data": {
      "text/plain": [
       "(147, 12247)"
      ]
     },
     "execution_count": 14,
     "metadata": {},
     "output_type": "execute_result"
    }
   ],
   "source": [
    "X.shape"
   ]
  },
  {
   "cell_type": "code",
   "execution_count": 16,
   "metadata": {
    "collapsed": false
   },
   "outputs": [],
   "source": [
    "word = vectorizer.get_feature_names()\n",
    "#word"
   ]
  },
  {
   "cell_type": "markdown",
   "metadata": {},
   "source": [
    "## 建立 tf-idf 矩陣"
   ]
  },
  {
   "cell_type": "code",
   "execution_count": 17,
   "metadata": {
    "collapsed": false
   },
   "outputs": [
    {
     "data": {
      "text/plain": [
       "array([[ 0.,  0.,  0., ...,  0.,  0.,  0.],\n",
       "       [ 0.,  0.,  0., ...,  0.,  0.,  0.],\n",
       "       [ 0.,  0.,  0., ...,  0.,  0.,  0.],\n",
       "       ..., \n",
       "       [ 0.,  0.,  0., ...,  0.,  0.,  0.],\n",
       "       [ 0.,  0.,  0., ...,  0.,  0.,  0.],\n",
       "       [ 0.,  0.,  0., ...,  0.,  0.,  0.]])"
      ]
     },
     "execution_count": 17,
     "metadata": {},
     "output_type": "execute_result"
    }
   ],
   "source": [
    "from sklearn.feature_extraction.text import TfidfTransformer\n",
    "transformer = TfidfTransformer()\n",
    "tfidf       = transformer.fit_transform(X)\n",
    "tfidf.toarray()"
   ]
  },
  {
   "cell_type": "code",
   "execution_count": 19,
   "metadata": {
    "collapsed": false
   },
   "outputs": [
    {
     "data": {
      "text/plain": [
       "(147, 12247)"
      ]
     },
     "execution_count": 19,
     "metadata": {},
     "output_type": "execute_result"
    }
   ],
   "source": [
    "tfidf.shape"
   ]
  },
  {
   "cell_type": "markdown",
   "metadata": {},
   "source": [
    "## 使用Kmeans 進行分群"
   ]
  },
  {
   "cell_type": "code",
   "execution_count": 21,
   "metadata": {
    "collapsed": true
   },
   "outputs": [],
   "source": [
    "from sklearn import cluster\n",
    "#?cluster.KMeans\n",
    "c=cluster.KMeans(n_clusters=4)"
   ]
  },
  {
   "cell_type": "code",
   "execution_count": 22,
   "metadata": {
    "collapsed": true
   },
   "outputs": [],
   "source": [
    "weight = tfidf.toarray()\n",
    "k_data = c.fit_predict(weight)"
   ]
  },
  {
   "cell_type": "markdown",
   "metadata": {},
   "source": [
    "## 使用Enumerate 取出分群結果"
   ]
  },
  {
   "cell_type": "code",
   "execution_count": 24,
   "metadata": {
    "collapsed": false
   },
   "outputs": [
    {
     "name": "stdout",
     "output_type": "stream",
     "text": [
      "0 2\n",
      "1 5\n",
      "2 3\n",
      "3 4\n",
      "4 7\n"
     ]
    }
   ],
   "source": [
    "a= [2,5,3,4,7]\n",
    "for idx, e in enumerate(a):\n",
    "    print(idx, e)"
   ]
  },
  {
   "cell_type": "code",
   "execution_count": 40,
   "metadata": {
    "collapsed": false
   },
   "outputs": [
    {
     "name": "stdout",
     "output_type": "stream",
     "text": [
      "蔡依林淚奪金曲 錦榮傳訊恭喜\n",
      "陳奕迅、張惠妹稱王封后  蔡依林抱回最大獎\n",
      "陳奕迅、莫文蔚伴侶均不知阿娜答金曲獲獎\n",
      "金曲26／蔡依林擒３獎大勝　淚崩再挺婚姻平權\n",
      "金曲26／張惠妹奪歌后卻失落　要世界感受彩虹力量\n",
      "金曲26／蔡依林淚奪最佳專輯＋完整得獎名單\n",
      "僅次Jolin！徐佳瑩入圍6獎全槓被封遺珠\n",
      "金曲最風光！蔡依林紅毯全勝又獲3獎成大贏家\n",
      "張惠妹3度封后  想破江蕙紀錄\n",
      "金曲26／陳奕迅稱王謝台灣　張惠妹封后秒噴淚\n",
      "蔡依林呸大贏家  金曲最佳專輯獎\n",
      "金曲獎完整得獎名單！阿妹封后 陳奕迅稱王\n",
      "第26屆金曲獎 陳奕迅奪歌王、阿妹封歌后\n",
      "金曲最佳國語專輯：呸\n",
      "《金曲26》2015金曲獎得獎名單 線上直播懶人包\n"
     ]
    }
   ],
   "source": [
    "for pos, group in enumerate(k_data):\n",
    "    if group == 1:\n",
    "        print(titles[pos])"
   ]
  },
  {
   "cell_type": "markdown",
   "metadata": {},
   "source": [
    "## 使用Numpy 取出分群結果"
   ]
  },
  {
   "cell_type": "code",
   "execution_count": 39,
   "metadata": {
    "collapsed": false
   },
   "outputs": [
    {
     "data": {
      "text/plain": [
       "array(['蔡依林淚奪金曲 錦榮傳訊恭喜', '陳奕迅、張惠妹稱王封后  蔡依林抱回最大獎', '陳奕迅、莫文蔚伴侶均不知阿娜答金曲獲獎',\n",
       "       '金曲26／蔡依林擒３獎大勝\\u3000淚崩再挺婚姻平權', '金曲26／張惠妹奪歌后卻失落\\u3000要世界感受彩虹力量',\n",
       "       '金曲26／蔡依林淚奪最佳專輯＋完整得獎名單', '僅次Jolin！徐佳瑩入圍6獎全槓被封遺珠',\n",
       "       '金曲最風光！蔡依林紅毯全勝又獲3獎成大贏家', '張惠妹3度封后  想破江蕙紀錄',\n",
       "       '金曲26／陳奕迅稱王謝台灣\\u3000張惠妹封后秒噴淚', '蔡依林呸大贏家  金曲最佳專輯獎',\n",
       "       '金曲獎完整得獎名單！阿妹封后 陳奕迅稱王', '第26屆金曲獎 陳奕迅奪歌王、阿妹封歌后', '金曲最佳國語專輯：呸',\n",
       "       '《金曲26》2015金曲獎得獎名單 線上直播懶人包'], \n",
       "      dtype='<U26')"
      ]
     },
     "execution_count": 39,
     "metadata": {},
     "output_type": "execute_result"
    }
   ],
   "source": [
    "import numpy\n",
    "new_titles = numpy.array(titles)\n",
    "new_titles[k_data == 1]"
   ]
  },
  {
   "cell_type": "markdown",
   "metadata": {},
   "source": [
    "## 取出分群結果關鍵字"
   ]
  },
  {
   "cell_type": "code",
   "execution_count": 54,
   "metadata": {
    "collapsed": false
   },
   "outputs": [
    {
     "data": {
      "text/plain": [
       "array([0, 6])"
      ]
     },
     "execution_count": 54,
     "metadata": {},
     "output_type": "execute_result"
    }
   ],
   "source": [
    "import numpy as np\n",
    "np.sum([\n",
    "        [0, 1], \n",
    "        [0, 5]\n",
    "       ], axis=0)"
   ]
  },
  {
   "cell_type": "code",
   "execution_count": 77,
   "metadata": {
    "collapsed": false
   },
   "outputs": [
    {
     "name": "stdout",
     "output_type": "stream",
     "text": [
      "最佳 4.04617459463\n",
      "專輯 2.82520550006\n",
      "金曲 1.94067007063\n",
      "蔡依林 1.64389056436\n",
      "國語 1.58337074329\n",
      "有限公司 1.2177551509\n",
      "音樂 1.20907925857\n",
      "張惠妹 1.1492862655\n",
      "開心 1.10664627155\n",
      "演唱 0.963153943651\n",
      "股份 0.927744639562\n",
      "專輯獎 0.921736618957\n",
      "獲得 0.874320017843\n",
      "歌曲 0.844433460573\n",
      "典禮 0.781024150118\n"
     ]
    }
   ],
   "source": [
    "#group1         = tfidf[k_data == 2].toarray()\n",
    "group1         = tfidf[k_data == 1].toarray()\n",
    "\n",
    "# 計算colsums\n",
    "group1_colsums = np.sum(group1, axis = 0)\n",
    "\n",
    "# 根據colsums 做由大到小的排序\n",
    "swd = group1_colsums.argsort()[::-1]\n",
    "\n",
    "# 將每個column keyword 變成numpy array\n",
    "keywords = numpy.array(vectorizer.get_feature_names())\n",
    "for term, cnt in zip(keywords[swd][0:15], group1_colsums[swd][0:15]):\n",
    "    print(term, cnt)"
   ]
  },
  {
   "cell_type": "code",
   "execution_count": 53,
   "metadata": {
    "collapsed": false
   },
   "outputs": [
    {
     "data": {
      "text/plain": [
       "array(['專輯', '金曲', '蔡依林', '國語', '有限公司', '音樂', '張惠妹', '開心', '演唱'], \n",
       "      dtype='<U7')"
      ]
     },
     "execution_count": 53,
     "metadata": {},
     "output_type": "execute_result"
    }
   ],
   "source": [
    "word = numpy.array(vectorizer.get_feature_names())\n",
    "word[np.sum(tfidf[k_data == 1].toarray(), axis = 0).argsort()[::-1]][1:10]"
   ]
  },
  {
   "cell_type": "markdown",
   "metadata": {},
   "source": [
    "## 抓取各群關鍵字函式"
   ]
  },
  {
   "cell_type": "code",
   "execution_count": 90,
   "metadata": {
    "collapsed": true
   },
   "outputs": [],
   "source": [
    "\n",
    "def getGroupKeyword(group_id, top_k):\n",
    "    group1         = tfidf[k_data == group_id].toarray()\n",
    "\n",
    "    # 計算colsums\n",
    "    group1_colsums = np.sum(group1, axis = 0)\n",
    "\n",
    "    # 根據colsums 做由大到小的排序\n",
    "    swd = group1_colsums.argsort()[::-1]\n",
    "\n",
    "    # 將每個column keyword 變成numpy array\n",
    "    keywords = numpy.array(vectorizer.get_feature_names())\n",
    "    for term, cnt in zip(keywords[swd][0:top_k], group1_colsums[swd][0:top_k]):\n",
    "        print(group_id, term, cnt)"
   ]
  },
  {
   "cell_type": "code",
   "execution_count": 91,
   "metadata": {
    "collapsed": false
   },
   "outputs": [
    {
     "name": "stdout",
     "output_type": "stream",
     "text": [
      "0 希臘 4.9108234637\n",
      "0 歐元區 2.33005924094\n",
      "0 債權 0.669524125324\n",
      "0 公投 0.658834077342\n",
      "0 政府 0.655118015554\n",
      "0 債務 0.63652134643\n",
      "0 提款 0.621601187768\n",
      "0 可能 0.582126641745\n",
      "0 財政部長 0.540912069506\n",
      "0 櫃員機 0.529374471226\n",
      "1 最佳 4.04617459463\n",
      "1 專輯 2.82520550006\n",
      "1 金曲 1.94067007063\n",
      "1 蔡依林 1.64389056436\n",
      "1 國語 1.58337074329\n",
      "1 有限公司 1.2177551509\n",
      "1 音樂 1.20907925857\n",
      "1 張惠妹 1.1492862655\n",
      "1 開心 1.10664627155\n",
      "1 演唱 0.963153943651\n",
      "2 樂園 4.14330231395\n",
      "2 八仙 4.12942243844\n",
      "2 新北市 3.93388532716\n",
      "2 醫院 3.1762003018\n",
      "2 現場 2.23152989783\n",
      "2 爆炸 2.22054448284\n",
      "2 粉塵 1.87660964446\n",
      "2 彩色 1.82383967746\n",
      "2 晚間 1.76313521462\n",
      "2 全力 1.74433563207\n",
      "3 西瓜 1.66460170799\n",
      "3 台灣 1.6225689309\n",
      "3 中國 1.27768694508\n",
      "3 美國 1.1794085543\n",
      "3 日本 1.09012430195\n",
      "3 表示 1.03101524258\n",
      "3 問題 1.02815489241\n",
      "3 國民黨 1.01940906769\n",
      "3 金曲 1.01697909732\n",
      "3 改革 0.99394349865\n"
     ]
    }
   ],
   "source": [
    "for group_id in numpy.unique(k_data):\n",
    "    getGroupKeyword(group_id, 10)"
   ]
  },
  {
   "cell_type": "markdown",
   "metadata": {},
   "source": [
    "## 使用Pandas 讀取SQLIte 資料"
   ]
  },
  {
   "cell_type": "code",
   "execution_count": 97,
   "metadata": {
    "collapsed": false
   },
   "outputs": [],
   "source": [
    "import pandas\n",
    "import sqlite3\n",
    "with sqlite3.connect('news.sqlite') as db:\n",
    "    df = pandas.read_sql_query('SELECT * FROM news_entry;', con=db)"
   ]
  },
  {
   "cell_type": "code",
   "execution_count": 99,
   "metadata": {
    "collapsed": false
   },
   "outputs": [
    {
     "data": {
      "text/html": [
       "<div>\n",
       "<table border=\"1\" class=\"dataframe\">\n",
       "  <thead>\n",
       "    <tr style=\"text-align: right;\">\n",
       "      <th></th>\n",
       "      <th>id</th>\n",
       "      <th>category</th>\n",
       "      <th>view_cnt</th>\n",
       "      <th>time</th>\n",
       "      <th>title</th>\n",
       "      <th>summary</th>\n",
       "      <th>link</th>\n",
       "    </tr>\n",
       "  </thead>\n",
       "  <tbody>\n",
       "    <tr>\n",
       "      <th>0</th>\n",
       "      <td>1</td>\n",
       "      <td>生活</td>\n",
       "      <td>0</td>\n",
       "      <td>15:35</td>\n",
       "      <td>【民報書摘】地圖上不存在的國家</td>\n",
       "      <td>本內容由民報提供 (摘錄 全文請連結民報)民報書摘《地圖上不存在的國家》作者：尼克‧米德頓(...</td>\n",
       "      <td>http://www.appledaily.com.tw/realtimenews/arti...</td>\n",
       "    </tr>\n",
       "    <tr>\n",
       "      <th>1</th>\n",
       "      <td>2</td>\n",
       "      <td>社會</td>\n",
       "      <td>31324</td>\n",
       "      <td>15:33</td>\n",
       "      <td>【更新】殺1、2人不會判死？   割喉殺...</td>\n",
       "      <td>（更新：判決理由） 2012年發生的台南湯姆熊男童遭割喉命案，震驚全台，兇嫌曾文欽落網後曾嗆...</td>\n",
       "      <td>http://www.appledaily.com.tw/realtimenews/arti...</td>\n",
       "    </tr>\n",
       "    <tr>\n",
       "      <th>2</th>\n",
       "      <td>3</td>\n",
       "      <td>生活</td>\n",
       "      <td>476</td>\n",
       "      <td>15:31</td>\n",
       "      <td>華為徠卡旗艦機　1萬7千元有找</td>\n",
       "      <td>更新：新增影片 華為今在台發表最新旗艦機P9，主打拍照功能，手機搭載兩顆徠卡（Leica）光...</td>\n",
       "      <td>http://www.appledaily.com.tw/realtimenews/arti...</td>\n",
       "    </tr>\n",
       "    <tr>\n",
       "      <th>3</th>\n",
       "      <td>4</td>\n",
       "      <td>娛樂</td>\n",
       "      <td>154</td>\n",
       "      <td>15:30</td>\n",
       "      <td>哈孝遠相揪尬籃球　一句話竟然讓JJ硬了！</td>\n",
       "      <td>藝人哈孝遠巧遇懷秋與JJ，並揪他們下次有空一起去打球，懷秋表示興奮！不過JJ有點擔心地說：「...</td>\n",
       "      <td>http://www.appledaily.com.tw/realtimenews/arti...</td>\n",
       "    </tr>\n",
       "    <tr>\n",
       "      <th>4</th>\n",
       "      <td>5</td>\n",
       "      <td>國際</td>\n",
       "      <td>0</td>\n",
       "      <td>15:30</td>\n",
       "      <td>【央廣RTI】遊古巴正夯  美國人暴增9...</td>\n",
       "      <td>本內容由中央廣播電臺提供        古巴政府4日表示，2016年1至4月到古巴旅遊的美國...</td>\n",
       "      <td>http://www.appledaily.com.tw/realtimenews/arti...</td>\n",
       "    </tr>\n",
       "  </tbody>\n",
       "</table>\n",
       "</div>"
      ],
      "text/plain": [
       "   id category  view_cnt   time                    title  \\\n",
       "0   1       生活         0  15:35          【民報書摘】地圖上不存在的國家   \n",
       "1   2       社會     31324  15:33  【更新】殺1、2人不會判死？   割喉殺...   \n",
       "2   3       生活       476  15:31          華為徠卡旗艦機　1萬7千元有找   \n",
       "3   4       娛樂       154  15:30     哈孝遠相揪尬籃球　一句話竟然讓JJ硬了！   \n",
       "4   5       國際         0  15:30  【央廣RTI】遊古巴正夯  美國人暴增9...   \n",
       "\n",
       "                                             summary  \\\n",
       "0  本內容由民報提供 (摘錄 全文請連結民報)民報書摘《地圖上不存在的國家》作者：尼克‧米德頓(...   \n",
       "1  （更新：判決理由） 2012年發生的台南湯姆熊男童遭割喉命案，震驚全台，兇嫌曾文欽落網後曾嗆...   \n",
       "2  更新：新增影片 華為今在台發表最新旗艦機P9，主打拍照功能，手機搭載兩顆徠卡（Leica）光...   \n",
       "3  藝人哈孝遠巧遇懷秋與JJ，並揪他們下次有空一起去打球，懷秋表示興奮！不過JJ有點擔心地說：「...   \n",
       "4  本內容由中央廣播電臺提供        古巴政府4日表示，2016年1至4月到古巴旅遊的美國...   \n",
       "\n",
       "                                                link  \n",
       "0  http://www.appledaily.com.tw/realtimenews/arti...  \n",
       "1  http://www.appledaily.com.tw/realtimenews/arti...  \n",
       "2  http://www.appledaily.com.tw/realtimenews/arti...  \n",
       "3  http://www.appledaily.com.tw/realtimenews/arti...  \n",
       "4  http://www.appledaily.com.tw/realtimenews/arti...  "
      ]
     },
     "execution_count": 99,
     "metadata": {},
     "output_type": "execute_result"
    }
   ],
   "source": [
    "# 閱讀前五篇文章\n",
    "df.head()"
   ]
  },
  {
   "cell_type": "markdown",
   "metadata": {},
   "source": [
    "## 將標題, 分詞結果, 標籤加到各自的List之中"
   ]
  },
  {
   "cell_type": "code",
   "execution_count": 226,
   "metadata": {
    "collapsed": false
   },
   "outputs": [],
   "source": [
    "titles = []\n",
    "corpus = []\n",
    "tags   = []\n",
    "for index, news in df.iterrows():\n",
    "    if news['category'] == '社會' or news['category'] == '娛樂' or news['category'] == '財經':\n",
    "        titles.append(news['title'])\n",
    "        tags.append(news['category'])\n",
    "        article = []\n",
    "        for word in jieba.cut(news['summary']):\n",
    "            if re.match('[\\u4e00-\\u9fa5]+', word):\n",
    "                article.append(word)\n",
    "        corpus.append(' '.join(article)) "
   ]
  },
  {
   "cell_type": "code",
   "execution_count": 227,
   "metadata": {
    "collapsed": false
   },
   "outputs": [
    {
     "data": {
      "text/plain": [
       "Counter({'娛樂': 126, '社會': 220, '財經': 134})"
      ]
     },
     "execution_count": 227,
     "metadata": {},
     "output_type": "execute_result"
    }
   ],
   "source": [
    "from collections import Counter\n",
    "c = Counter(tags)\n",
    "c"
   ]
  },
  {
   "cell_type": "markdown",
   "metadata": {},
   "source": [
    "## 轉變為詞頻矩陣"
   ]
  },
  {
   "cell_type": "code",
   "execution_count": 228,
   "metadata": {
    "collapsed": true
   },
   "outputs": [],
   "source": [
    "from sklearn.feature_extraction.text import CountVectorizer\n",
    "vectorizer = CountVectorizer()\n",
    "X    = vectorizer.fit_transform(corpus)\n",
    "word = vectorizer.get_feature_names()"
   ]
  },
  {
   "cell_type": "code",
   "execution_count": 229,
   "metadata": {
    "collapsed": false
   },
   "outputs": [
    {
     "data": {
      "text/plain": [
       "(480, 21239)"
      ]
     },
     "execution_count": 229,
     "metadata": {},
     "output_type": "execute_result"
    }
   ],
   "source": [
    "#word\n",
    "X.shape"
   ]
  },
  {
   "cell_type": "markdown",
   "metadata": {},
   "source": [
    "## 使用tfidf"
   ]
  },
  {
   "cell_type": "code",
   "execution_count": 230,
   "metadata": {
    "collapsed": false
   },
   "outputs": [
    {
     "data": {
      "text/plain": [
       "'\\nfrom sklearn.feature_extraction.text import TfidfTransformer\\ntransformer = TfidfTransformer()\\ntfidf       = transformer.fit_transform(X)\\n#tfidf.toarray()\\nX = tfidf\\n'"
      ]
     },
     "execution_count": 230,
     "metadata": {},
     "output_type": "execute_result"
    }
   ],
   "source": [
    "'''\n",
    "from sklearn.feature_extraction.text import TfidfTransformer\n",
    "transformer = TfidfTransformer()\n",
    "tfidf       = transformer.fit_transform(X)\n",
    "#tfidf.toarray()\n",
    "X = tfidf\n",
    "'''"
   ]
  },
  {
   "cell_type": "markdown",
   "metadata": {},
   "source": [
    "## 分為訓練與測試資料集"
   ]
  },
  {
   "cell_type": "code",
   "execution_count": 231,
   "metadata": {
    "collapsed": true
   },
   "outputs": [],
   "source": [
    "from sklearn.cross_validation import train_test_split\n",
    "train_titles, test_titles, train_data, test_data, train_tags, test_tags= train_test_split(titles, X, tags, test_size=0.30, random_state=42)"
   ]
  },
  {
   "cell_type": "code",
   "execution_count": 232,
   "metadata": {
    "collapsed": false
   },
   "outputs": [
    {
     "data": {
      "text/plain": [
       "336"
      ]
     },
     "execution_count": 232,
     "metadata": {},
     "output_type": "execute_result"
    }
   ],
   "source": [
    "len(train_titles)"
   ]
  },
  {
   "cell_type": "code",
   "execution_count": 233,
   "metadata": {
    "collapsed": false
   },
   "outputs": [
    {
     "data": {
      "text/plain": [
       "144"
      ]
     },
     "execution_count": 233,
     "metadata": {},
     "output_type": "execute_result"
    }
   ],
   "source": [
    "len(test_titles)"
   ]
  },
  {
   "cell_type": "code",
   "execution_count": 234,
   "metadata": {
    "collapsed": false
   },
   "outputs": [
    {
     "data": {
      "text/plain": [
       "'財經'"
      ]
     },
     "execution_count": 234,
     "metadata": {},
     "output_type": "execute_result"
    }
   ],
   "source": [
    "train_tags[0]"
   ]
  },
  {
   "cell_type": "markdown",
   "metadata": {},
   "source": [
    "## 使用Naive Bayes 建立分類模型"
   ]
  },
  {
   "cell_type": "code",
   "execution_count": 235,
   "metadata": {
    "collapsed": false
   },
   "outputs": [
    {
     "data": {
      "text/plain": [
       "MultinomialNB(alpha=0.01, class_prior=None, fit_prior=True)"
      ]
     },
     "execution_count": 235,
     "metadata": {},
     "output_type": "execute_result"
    }
   ],
   "source": [
    "from sklearn.naive_bayes import MultinomialNB\n",
    "clf=MultinomialNB(alpha=0.01)\n",
    "clf.fit(train_data,train_tags)"
   ]
  },
  {
   "cell_type": "markdown",
   "metadata": {},
   "source": [
    "## 產生預測結果"
   ]
  },
  {
   "cell_type": "code",
   "execution_count": 236,
   "metadata": {
    "collapsed": true
   },
   "outputs": [],
   "source": [
    "pred=clf.predict(test_data)"
   ]
  },
  {
   "cell_type": "markdown",
   "metadata": {},
   "source": [
    "## 驗證預測結果"
   ]
  },
  {
   "cell_type": "code",
   "execution_count": 237,
   "metadata": {
    "collapsed": false
   },
   "outputs": [
    {
     "name": "stdout",
     "output_type": "stream",
     "text": [
      "['娛樂' '社會' '財經']\n",
      "[[34  0  1]\n",
      " [ 0 75  1]\n",
      " [ 0  0 33]]\n"
     ]
    }
   ],
   "source": [
    "from sklearn.metrics import confusion_matrix\n",
    "\n",
    "print(clf.classes_)\n",
    "print(confusion_matrix(test_tags,pred))"
   ]
  },
  {
   "cell_type": "code",
   "execution_count": 238,
   "metadata": {
    "collapsed": false
   },
   "outputs": [
    {
     "name": "stdout",
     "output_type": "stream",
     "text": [
      "90 社會 財經 【公庫】旗山大溝頂老街 反政府拆遷\n",
      "126 娛樂 財經 葉樹姍回鍋大愛台　接棒總監\n"
     ]
    }
   ],
   "source": [
    "for idx, item in enumerate(zip(test_tags, pred)):\n",
    "    if item[0] != item[1]:\n",
    "        print(idx,item[0],item[1], test_titles[idx])"
   ]
  },
  {
   "cell_type": "code",
   "execution_count": 239,
   "metadata": {
    "collapsed": false
   },
   "outputs": [
    {
     "name": "stdout",
     "output_type": "stream",
     "text": [
      "(1, 'a')\n",
      "(2, 'b')\n",
      "(3, 'c')\n"
     ]
    }
   ],
   "source": [
    "a = [ 1 ,  2 ,  3 ]\n",
    "b = ['a', 'b', 'c']\n",
    "for item in zip(a,b):\n",
    "    print(item)"
   ]
  },
  {
   "cell_type": "code",
   "execution_count": 240,
   "metadata": {
    "collapsed": false
   },
   "outputs": [
    {
     "data": {
      "text/plain": [
       "0.98611111111111116"
      ]
     },
     "execution_count": 240,
     "metadata": {},
     "output_type": "execute_result"
    }
   ],
   "source": [
    "from sklearn.metrics import accuracy_score\n",
    "accuracy_score(test_tags,pred)"
   ]
  },
  {
   "cell_type": "markdown",
   "metadata": {},
   "source": [
    "## 找出電腦分類用的關鍵字"
   ]
  },
  {
   "cell_type": "code",
   "execution_count": 241,
   "metadata": {
    "collapsed": false
   },
   "outputs": [
    {
     "data": {
      "text/plain": [
       "array(['娛樂', '社會', '財經'], \n",
       "      dtype='<U2')"
      ]
     },
     "execution_count": 241,
     "metadata": {},
     "output_type": "execute_result"
    }
   ],
   "source": [
    "clf.classes_"
   ]
  },
  {
   "cell_type": "code",
   "execution_count": 242,
   "metadata": {
    "collapsed": false
   },
   "outputs": [
    {
     "data": {
      "text/plain": [
       "3"
      ]
     },
     "execution_count": 242,
     "metadata": {},
     "output_type": "execute_result"
    }
   ],
   "source": [
    "len(clf.coef_)"
   ]
  },
  {
   "cell_type": "code",
   "execution_count": 245,
   "metadata": {
    "collapsed": false
   },
   "outputs": [
    {
     "data": {
      "text/plain": [
       "[('報導', -5.0449244045611188),\n",
       " ('週刊', -5.2962035644495549),\n",
       " ('新聞', -5.3788815989255463),\n",
       " ('自己', -5.5474726494820628),\n",
       " ('粉絲', -5.6106382442361422),\n",
       " ('綜合', -5.6106382442361422),\n",
       " ('這則', -5.6106382442361422),\n",
       " ('節目', -5.6780643616078743),\n",
       " ('女兒', -5.7756789848849541),\n",
       " ('工作', -5.7756789848849541),\n",
       " ('翻攝', -5.8283088620054544),\n",
       " ('表示', -5.8557003307427351),\n",
       " ('台灣', -5.8838632734369449),\n",
       " ('提供', -5.8838632734369449),\n",
       " ('台北', -5.9426864625384175),\n",
       " ('中國', -5.9734486544217473),\n",
       " ('偶像', -5.9734486544217473),\n",
       " ('我們', -5.9734486544217473),\n",
       " ('不過', -6.0051872752911617),\n",
       " ('鹿晗', -6.0051872752911617),\n",
       " ('公司', -6.0379663489512438),\n",
       " ('娛樂', -6.0718564102702057),\n",
       " ('活動', -6.0718564102702057),\n",
       " ('網友', -6.0718564102702057),\n",
       " ('就是', -6.106935419131502),\n",
       " ('鼓鼓', -6.1432898405989942),\n",
       " ('香港', -6.2202212635139915),\n",
       " ('可以', -6.261026598170357),\n",
       " ('因為', -6.261026598170357),\n",
       " ('時間', -6.261026598170357)]"
      ]
     },
     "execution_count": 245,
     "metadata": {},
     "output_type": "execute_result"
    }
   ],
   "source": [
    "import operator\n",
    "# 0 => 娛樂 1=> 社會 2=> 財經\n",
    "word_coef = clf.coef_[0].flatten()\n",
    "word      = vectorizer.get_feature_names()\n",
    "word_rank = [item for item in zip(word, word_coef)]\n",
    "swd       = sorted(word_rank, key=operator.itemgetter(1), reverse=True)\n",
    "swd[0:30]"
   ]
  },
  {
   "cell_type": "markdown",
   "metadata": {},
   "source": [
    "## 使用Gensim 建立 word2vec 模型"
   ]
  },
  {
   "cell_type": "markdown",
   "metadata": {},
   "source": [
    "## 下載Gensim\n",
    "- https://pypi.python.org/pypi/gensim#downloads\n",
    "- https://pypi.python.org/packages/74/68/82a3ebb34ac9a7ec4bb004b5a92462e9ce6ce56e8dd7544f913b49bd372a/gensim-0.13.3-cp35-cp35m-win_amd64.whl#md5=9ebf4708ca1cc0306242dd4c0d63d4f1\n",
    "\n",
    "- conda install win-64-gensim-0.12.4-np111py35_0.tar.bz2\n",
    "\n",
    "## 下載 smart_open\n",
    "- https://pypi.python.org/pypi/smart_open/1.3.5\n",
    "- 解壓縮\n",
    "- python setup.py install "
   ]
  },
  {
   "cell_type": "code",
   "execution_count": 3,
   "metadata": {
    "collapsed": true
   },
   "outputs": [],
   "source": [
    "import pandas\n",
    "import sqlite3\n",
    "with sqlite3.connect('news.sqlite') as db:\n",
    "    df = pandas.read_sql_query('SELECT * FROM news_entry;', con=db)"
   ]
  },
  {
   "cell_type": "code",
   "execution_count": 18,
   "metadata": {
    "collapsed": false
   },
   "outputs": [],
   "source": [
    "import jieba, re\n",
    "\n",
    "corpus = []\n",
    "tags = []\n",
    "title = []\n",
    "for index, news in df.iterrows():\n",
    "    #if (rec[2] == '娛樂'.decode('utf-8')):\n",
    "    ele  = jieba.cut(news['summary'])\n",
    "    corpus.append([w for w in ' '.join(ele).split()])"
   ]
  },
  {
   "cell_type": "code",
   "execution_count": 20,
   "metadata": {
    "collapsed": false,
    "scrolled": true
   },
   "outputs": [],
   "source": [
    "from gensim.models import word2vec"
   ]
  },
  {
   "cell_type": "code",
   "execution_count": 21,
   "metadata": {
    "collapsed": true
   },
   "outputs": [],
   "source": [
    "num_features = 10\n",
    "min_word_count = 10\n",
    "num_workers = 4\n",
    "context = 10\n",
    "epoch = 20\n",
    "sample = 1e-5\n",
    "model = word2vec.Word2Vec(corpus, workers = num_workers,\n",
    "                          sample = sample,\n",
    "                          size = num_features,\n",
    "                          min_count=min_word_count,\n",
    "                          window = context,\n",
    "                          iter = epoch)"
   ]
  },
  {
   "cell_type": "code",
   "execution_count": 38,
   "metadata": {
    "collapsed": false
   },
   "outputs": [
    {
     "data": {
      "text/plain": [
       "['BBC', '拒絕', '姊', '試驗', '熊本', '多名', '85', '絕食', '差距', '門檻']"
      ]
     },
     "execution_count": 38,
     "metadata": {},
     "output_type": "execute_result"
    }
   ],
   "source": [
    "[w for w in model.vocab][0:10]"
   ]
  },
  {
   "cell_type": "code",
   "execution_count": 33,
   "metadata": {
    "collapsed": false
   },
   "outputs": [
    {
     "name": "stdout",
     "output_type": "stream",
     "text": [
      "下載 0.999111533164978\n",
      "Plus 0.998620331287384\n",
      "2016 0.9981125593185425\n",
      "影片 0.9979183077812195\n",
      "I 0.9978212118148804\n",
      "— 0.99778813123703\n",
      "曾雪蒨 0.9977516531944275\n",
      "警長 0.9976658821105957\n",
      "Johnson 0.9975661039352417\n",
      "NASA 0.9974972605705261\n"
     ]
    }
   ],
   "source": [
    "for w in model.most_similar('iPhone'):\n",
    "    print(w[0], w[1])"
   ]
  },
  {
   "cell_type": "code",
   "execution_count": null,
   "metadata": {
    "collapsed": true
   },
   "outputs": [],
   "source": []
  }
 ],
 "metadata": {
  "kernelspec": {
   "display_name": "Python [Root]",
   "language": "python",
   "name": "Python [Root]"
  },
  "language_info": {
   "codemirror_mode": {
    "name": "ipython",
    "version": 3
   },
   "file_extension": ".py",
   "mimetype": "text/x-python",
   "name": "python",
   "nbconvert_exporter": "python",
   "pygments_lexer": "ipython3",
   "version": "3.5.2"
  }
 },
 "nbformat": 4,
 "nbformat_minor": 0
}
