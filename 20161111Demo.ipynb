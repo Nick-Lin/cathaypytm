{
 "cells": [
  {
   "cell_type": "code",
   "execution_count": null,
   "metadata": {
    "collapsed": true
   },
   "outputs": [],
   "source": [
    "f = open('1435449602.xml', 'r')\n",
    "article = f.read()\n",
    "f.close()"
   ]
  },
  {
   "cell_type": "markdown",
   "metadata": {},
   "source": [
    "## 將XML 資料讀取進成xml 架構"
   ]
  },
  {
   "cell_type": "code",
   "execution_count": 2,
   "metadata": {
    "collapsed": false
   },
   "outputs": [
    {
     "data": {
      "text/plain": [
       "xml.etree.ElementTree.Element"
      ]
     },
     "execution_count": 2,
     "metadata": {},
     "output_type": "execute_result"
    }
   ],
   "source": [
    "from xml.etree import ElementTree\n",
    "with open('1435449602.xml','r',encoding='utf-8') as f:\n",
    "    events=ElementTree.fromstring(f.read())\n",
    "\n",
    "type(events)"
   ]
  },
  {
   "cell_type": "markdown",
   "metadata": {},
   "source": [
    "## 從item 之中分別取得標題與內文，並進行切詞"
   ]
  },
  {
   "cell_type": "code",
   "execution_count": 12,
   "metadata": {
    "collapsed": false
   },
   "outputs": [],
   "source": [
    "import jieba, re\n",
    "\n",
    "corpus = []\n",
    "titles = []\n",
    "for elem in events.findall('./channel/item'):\n",
    "    title       = elem.find('title').text\n",
    "    description = elem.find('description').text\n",
    "    titles.append(title)\n",
    "    article = []\n",
    "    for word in jieba.cut(description):\n",
    "        if re.match('[\\u4e00-\\u9fa5]+', word):\n",
    "            article.append(word)\n",
    "    corpus.append(' '.join(article))"
   ]
  },
  {
   "cell_type": "markdown",
   "metadata": {},
   "source": [
    "## 建立詞頻矩陣"
   ]
  },
  {
   "cell_type": "code",
   "execution_count": 13,
   "metadata": {
    "collapsed": false
   },
   "outputs": [],
   "source": [
    "from sklearn.feature_extraction.text import CountVectorizer\n",
    "vectorizer = CountVectorizer()\n",
    "X = vectorizer.fit_transform(corpus)"
   ]
  },
  {
   "cell_type": "code",
   "execution_count": 14,
   "metadata": {
    "collapsed": false
   },
   "outputs": [
    {
     "data": {
      "text/plain": [
       "(147, 12247)"
      ]
     },
     "execution_count": 14,
     "metadata": {},
     "output_type": "execute_result"
    }
   ],
   "source": [
    "X.shape"
   ]
  },
  {
   "cell_type": "code",
   "execution_count": 16,
   "metadata": {
    "collapsed": false
   },
   "outputs": [],
   "source": [
    "word = vectorizer.get_feature_names()\n",
    "#word"
   ]
  },
  {
   "cell_type": "markdown",
   "metadata": {},
   "source": [
    "## 建立 tf-idf 矩陣"
   ]
  },
  {
   "cell_type": "code",
   "execution_count": 17,
   "metadata": {
    "collapsed": false
   },
   "outputs": [
    {
     "data": {
      "text/plain": [
       "array([[ 0.,  0.,  0., ...,  0.,  0.,  0.],\n",
       "       [ 0.,  0.,  0., ...,  0.,  0.,  0.],\n",
       "       [ 0.,  0.,  0., ...,  0.,  0.,  0.],\n",
       "       ..., \n",
       "       [ 0.,  0.,  0., ...,  0.,  0.,  0.],\n",
       "       [ 0.,  0.,  0., ...,  0.,  0.,  0.],\n",
       "       [ 0.,  0.,  0., ...,  0.,  0.,  0.]])"
      ]
     },
     "execution_count": 17,
     "metadata": {},
     "output_type": "execute_result"
    }
   ],
   "source": [
    "from sklearn.feature_extraction.text import TfidfTransformer\n",
    "transformer = TfidfTransformer()\n",
    "tfidf       = transformer.fit_transform(X)\n",
    "tfidf.toarray()"
   ]
  },
  {
   "cell_type": "code",
   "execution_count": 19,
   "metadata": {
    "collapsed": false
   },
   "outputs": [
    {
     "data": {
      "text/plain": [
       "(147, 12247)"
      ]
     },
     "execution_count": 19,
     "metadata": {},
     "output_type": "execute_result"
    }
   ],
   "source": [
    "tfidf.shape"
   ]
  },
  {
   "cell_type": "markdown",
   "metadata": {},
   "source": [
    "## 使用Kmeans 進行分群"
   ]
  },
  {
   "cell_type": "code",
   "execution_count": 21,
   "metadata": {
    "collapsed": true
   },
   "outputs": [],
   "source": [
    "from sklearn import cluster\n",
    "#?cluster.KMeans\n",
    "c=cluster.KMeans(n_clusters=4)"
   ]
  },
  {
   "cell_type": "code",
   "execution_count": 22,
   "metadata": {
    "collapsed": true
   },
   "outputs": [],
   "source": [
    "weight = tfidf.toarray()\n",
    "k_data = c.fit_predict(weight)"
   ]
  },
  {
   "cell_type": "markdown",
   "metadata": {},
   "source": [
    "## 使用Enumerate 取出分群結果"
   ]
  },
  {
   "cell_type": "code",
   "execution_count": 24,
   "metadata": {
    "collapsed": false
   },
   "outputs": [
    {
     "name": "stdout",
     "output_type": "stream",
     "text": [
      "0 2\n",
      "1 5\n",
      "2 3\n",
      "3 4\n",
      "4 7\n"
     ]
    }
   ],
   "source": [
    "a= [2,5,3,4,7]\n",
    "for idx, e in enumerate(a):\n",
    "    print(idx, e)"
   ]
  },
  {
   "cell_type": "code",
   "execution_count": 40,
   "metadata": {
    "collapsed": false
   },
   "outputs": [
    {
     "name": "stdout",
     "output_type": "stream",
     "text": [
      "蔡依林淚奪金曲 錦榮傳訊恭喜\n",
      "陳奕迅、張惠妹稱王封后  蔡依林抱回最大獎\n",
      "陳奕迅、莫文蔚伴侶均不知阿娜答金曲獲獎\n",
      "金曲26／蔡依林擒３獎大勝　淚崩再挺婚姻平權\n",
      "金曲26／張惠妹奪歌后卻失落　要世界感受彩虹力量\n",
      "金曲26／蔡依林淚奪最佳專輯＋完整得獎名單\n",
      "僅次Jolin！徐佳瑩入圍6獎全槓被封遺珠\n",
      "金曲最風光！蔡依林紅毯全勝又獲3獎成大贏家\n",
      "張惠妹3度封后  想破江蕙紀錄\n",
      "金曲26／陳奕迅稱王謝台灣　張惠妹封后秒噴淚\n",
      "蔡依林呸大贏家  金曲最佳專輯獎\n",
      "金曲獎完整得獎名單！阿妹封后 陳奕迅稱王\n",
      "第26屆金曲獎 陳奕迅奪歌王、阿妹封歌后\n",
      "金曲最佳國語專輯：呸\n",
      "《金曲26》2015金曲獎得獎名單 線上直播懶人包\n"
     ]
    }
   ],
   "source": [
    "for pos, group in enumerate(k_data):\n",
    "    if group == 1:\n",
    "        print(titles[pos])"
   ]
  },
  {
   "cell_type": "markdown",
   "metadata": {},
   "source": [
    "## 使用Numpy 取出分群結果"
   ]
  },
  {
   "cell_type": "code",
   "execution_count": 39,
   "metadata": {
    "collapsed": false
   },
   "outputs": [
    {
     "data": {
      "text/plain": [
       "array(['蔡依林淚奪金曲 錦榮傳訊恭喜', '陳奕迅、張惠妹稱王封后  蔡依林抱回最大獎', '陳奕迅、莫文蔚伴侶均不知阿娜答金曲獲獎',\n",
       "       '金曲26／蔡依林擒３獎大勝\\u3000淚崩再挺婚姻平權', '金曲26／張惠妹奪歌后卻失落\\u3000要世界感受彩虹力量',\n",
       "       '金曲26／蔡依林淚奪最佳專輯＋完整得獎名單', '僅次Jolin！徐佳瑩入圍6獎全槓被封遺珠',\n",
       "       '金曲最風光！蔡依林紅毯全勝又獲3獎成大贏家', '張惠妹3度封后  想破江蕙紀錄',\n",
       "       '金曲26／陳奕迅稱王謝台灣\\u3000張惠妹封后秒噴淚', '蔡依林呸大贏家  金曲最佳專輯獎',\n",
       "       '金曲獎完整得獎名單！阿妹封后 陳奕迅稱王', '第26屆金曲獎 陳奕迅奪歌王、阿妹封歌后', '金曲最佳國語專輯：呸',\n",
       "       '《金曲26》2015金曲獎得獎名單 線上直播懶人包'], \n",
       "      dtype='<U26')"
      ]
     },
     "execution_count": 39,
     "metadata": {},
     "output_type": "execute_result"
    }
   ],
   "source": [
    "import numpy\n",
    "new_titles = numpy.array(titles)\n",
    "new_titles[k_data == 1]"
   ]
  },
  {
   "cell_type": "markdown",
   "metadata": {},
   "source": [
    "## 取出分群結果關鍵字"
   ]
  },
  {
   "cell_type": "code",
   "execution_count": 54,
   "metadata": {
    "collapsed": false
   },
   "outputs": [
    {
     "data": {
      "text/plain": [
       "array([0, 6])"
      ]
     },
     "execution_count": 54,
     "metadata": {},
     "output_type": "execute_result"
    }
   ],
   "source": [
    "import numpy as np\n",
    "np.sum([\n",
    "        [0, 1], \n",
    "        [0, 5]\n",
    "       ], axis=0)"
   ]
  },
  {
   "cell_type": "code",
   "execution_count": 77,
   "metadata": {
    "collapsed": false
   },
   "outputs": [
    {
     "name": "stdout",
     "output_type": "stream",
     "text": [
      "最佳 4.04617459463\n",
      "專輯 2.82520550006\n",
      "金曲 1.94067007063\n",
      "蔡依林 1.64389056436\n",
      "國語 1.58337074329\n",
      "有限公司 1.2177551509\n",
      "音樂 1.20907925857\n",
      "張惠妹 1.1492862655\n",
      "開心 1.10664627155\n",
      "演唱 0.963153943651\n",
      "股份 0.927744639562\n",
      "專輯獎 0.921736618957\n",
      "獲得 0.874320017843\n",
      "歌曲 0.844433460573\n",
      "典禮 0.781024150118\n"
     ]
    }
   ],
   "source": [
    "#group1         = tfidf[k_data == 2].toarray()\n",
    "group1         = tfidf[k_data == 1].toarray()\n",
    "\n",
    "# 計算colsums\n",
    "group1_colsums = np.sum(group1, axis = 0)\n",
    "\n",
    "# 根據colsums 做由大到小的排序\n",
    "swd = group1_colsums.argsort()[::-1]\n",
    "\n",
    "# 將每個column keyword 變成numpy array\n",
    "keywords = numpy.array(vectorizer.get_feature_names())\n",
    "for term, cnt in zip(keywords[swd][0:15], group1_colsums[swd][0:15]):\n",
    "    print(term, cnt)"
   ]
  },
  {
   "cell_type": "code",
   "execution_count": 53,
   "metadata": {
    "collapsed": false
   },
   "outputs": [
    {
     "data": {
      "text/plain": [
       "array(['專輯', '金曲', '蔡依林', '國語', '有限公司', '音樂', '張惠妹', '開心', '演唱'], \n",
       "      dtype='<U7')"
      ]
     },
     "execution_count": 53,
     "metadata": {},
     "output_type": "execute_result"
    }
   ],
   "source": [
    "word = numpy.array(vectorizer.get_feature_names())\n",
    "word[np.sum(tfidf[k_data == 1].toarray(), axis = 0).argsort()[::-1]][1:10]"
   ]
  },
  {
   "cell_type": "markdown",
   "metadata": {},
   "source": [
    "## 抓取各群關鍵字函式"
   ]
  },
  {
   "cell_type": "code",
   "execution_count": 90,
   "metadata": {
    "collapsed": true
   },
   "outputs": [],
   "source": [
    "\n",
    "def getGroupKeyword(group_id, top_k):\n",
    "    group1         = tfidf[k_data == group_id].toarray()\n",
    "\n",
    "    # 計算colsums\n",
    "    group1_colsums = np.sum(group1, axis = 0)\n",
    "\n",
    "    # 根據colsums 做由大到小的排序\n",
    "    swd = group1_colsums.argsort()[::-1]\n",
    "\n",
    "    # 將每個column keyword 變成numpy array\n",
    "    keywords = numpy.array(vectorizer.get_feature_names())\n",
    "    for term, cnt in zip(keywords[swd][0:top_k], group1_colsums[swd][0:top_k]):\n",
    "        print(group_id, term, cnt)"
   ]
  },
  {
   "cell_type": "code",
   "execution_count": 91,
   "metadata": {
    "collapsed": false
   },
   "outputs": [
    {
     "name": "stdout",
     "output_type": "stream",
     "text": [
      "0 希臘 4.9108234637\n",
      "0 歐元區 2.33005924094\n",
      "0 債權 0.669524125324\n",
      "0 公投 0.658834077342\n",
      "0 政府 0.655118015554\n",
      "0 債務 0.63652134643\n",
      "0 提款 0.621601187768\n",
      "0 可能 0.582126641745\n",
      "0 財政部長 0.540912069506\n",
      "0 櫃員機 0.529374471226\n",
      "1 最佳 4.04617459463\n",
      "1 專輯 2.82520550006\n",
      "1 金曲 1.94067007063\n",
      "1 蔡依林 1.64389056436\n",
      "1 國語 1.58337074329\n",
      "1 有限公司 1.2177551509\n",
      "1 音樂 1.20907925857\n",
      "1 張惠妹 1.1492862655\n",
      "1 開心 1.10664627155\n",
      "1 演唱 0.963153943651\n",
      "2 樂園 4.14330231395\n",
      "2 八仙 4.12942243844\n",
      "2 新北市 3.93388532716\n",
      "2 醫院 3.1762003018\n",
      "2 現場 2.23152989783\n",
      "2 爆炸 2.22054448284\n",
      "2 粉塵 1.87660964446\n",
      "2 彩色 1.82383967746\n",
      "2 晚間 1.76313521462\n",
      "2 全力 1.74433563207\n",
      "3 西瓜 1.66460170799\n",
      "3 台灣 1.6225689309\n",
      "3 中國 1.27768694508\n",
      "3 美國 1.1794085543\n",
      "3 日本 1.09012430195\n",
      "3 表示 1.03101524258\n",
      "3 問題 1.02815489241\n",
      "3 國民黨 1.01940906769\n",
      "3 金曲 1.01697909732\n",
      "3 改革 0.99394349865\n"
     ]
    }
   ],
   "source": [
    "for group_id in numpy.unique(k_data):\n",
    "    getGroupKeyword(group_id, 10)"
   ]
  },
  {
   "cell_type": "code",
   "execution_count": null,
   "metadata": {
    "collapsed": true
   },
   "outputs": [],
   "source": []
  }
 ],
 "metadata": {
  "kernelspec": {
   "display_name": "Python [Root]",
   "language": "python",
   "name": "Python [Root]"
  },
  "language_info": {
   "codemirror_mode": {
    "name": "ipython",
    "version": 3
   },
   "file_extension": ".py",
   "mimetype": "text/x-python",
   "name": "python",
   "nbconvert_exporter": "python",
   "pygments_lexer": "ipython3",
   "version": "3.5.2"
  }
 },
 "nbformat": 4,
 "nbformat_minor": 0
}
